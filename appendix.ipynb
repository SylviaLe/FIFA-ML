{
 "metadata": {
  "language_info": {
   "codemirror_mode": {
    "name": "ipython",
    "version": 3
   },
   "file_extension": ".py",
   "mimetype": "text/x-python",
   "name": "python",
   "nbconvert_exporter": "python",
   "pygments_lexer": "ipython3",
   "version": "3.9.0-final"
  },
  "orig_nbformat": 2,
  "kernelspec": {
   "name": "python3",
   "display_name": "Python 3.9.0 64-bit",
   "metadata": {
    "interpreter": {
     "hash": "ce0eb3b9e04d4bbb4a196bdde8fa672c3d2077ce83d147f742d60a9b2cb65a02"
    }
   }
  }
 },
 "nbformat": 4,
 "nbformat_minor": 2,
 "cells": [
  {
   "cell_type": "code",
   "execution_count": 1,
   "metadata": {},
   "outputs": [],
   "source": [
    "import pandas as pd"
   ]
  },
  {
   "cell_type": "code",
   "execution_count": 2,
   "metadata": {},
   "outputs": [
    {
     "output_type": "execute_result",
     "data": {
      "text/plain": [
       "   sofifa_id                                         player_url  \\\n",
       "0     158023  https://sofifa.com/player/158023/lionel-messi/...   \n",
       "1      20801  https://sofifa.com/player/20801/c-ronaldo-dos-...   \n",
       "2       9014  https://sofifa.com/player/9014/arjen-robben/15...   \n",
       "\n",
       "          short_name                            long_name  age         dob  \\\n",
       "0           L. Messi       Lionel Andrés Messi Cuccittini   27  1987-06-24   \n",
       "1  Cristiano Ronaldo  Cristiano Ronaldo dos Santos Aveiro   29  1985-02-05   \n",
       "2          A. Robben                         Arjen Robben   30  1984-01-23   \n",
       "\n",
       "   height_cm  weight_kg  nationality               club  ...   lwb   ldm  \\\n",
       "0        169         67    Argentina       FC Barcelona  ...  62+3  62+3   \n",
       "1        185         80     Portugal        Real Madrid  ...  63+3  63+3   \n",
       "2        180         80  Netherlands  FC Bayern München  ...  64+3  64+3   \n",
       "\n",
       "    cdm   rdm   rwb    lb   lcb    cb   rcb    rb  \n",
       "0  62+3  62+3  62+3  54+3  45+3  45+3  45+3  54+3  \n",
       "1  63+3  63+3  63+3  57+3  52+3  52+3  52+3  57+3  \n",
       "2  64+3  64+3  64+3  55+3  46+3  46+3  46+3  55+3  \n",
       "\n",
       "[3 rows x 104 columns]"
      ],
      "text/html": "<div>\n<style scoped>\n    .dataframe tbody tr th:only-of-type {\n        vertical-align: middle;\n    }\n\n    .dataframe tbody tr th {\n        vertical-align: top;\n    }\n\n    .dataframe thead th {\n        text-align: right;\n    }\n</style>\n<table border=\"1\" class=\"dataframe\">\n  <thead>\n    <tr style=\"text-align: right;\">\n      <th></th>\n      <th>sofifa_id</th>\n      <th>player_url</th>\n      <th>short_name</th>\n      <th>long_name</th>\n      <th>age</th>\n      <th>dob</th>\n      <th>height_cm</th>\n      <th>weight_kg</th>\n      <th>nationality</th>\n      <th>club</th>\n      <th>...</th>\n      <th>lwb</th>\n      <th>ldm</th>\n      <th>cdm</th>\n      <th>rdm</th>\n      <th>rwb</th>\n      <th>lb</th>\n      <th>lcb</th>\n      <th>cb</th>\n      <th>rcb</th>\n      <th>rb</th>\n    </tr>\n  </thead>\n  <tbody>\n    <tr>\n      <th>0</th>\n      <td>158023</td>\n      <td>https://sofifa.com/player/158023/lionel-messi/...</td>\n      <td>L. Messi</td>\n      <td>Lionel Andrés Messi Cuccittini</td>\n      <td>27</td>\n      <td>1987-06-24</td>\n      <td>169</td>\n      <td>67</td>\n      <td>Argentina</td>\n      <td>FC Barcelona</td>\n      <td>...</td>\n      <td>62+3</td>\n      <td>62+3</td>\n      <td>62+3</td>\n      <td>62+3</td>\n      <td>62+3</td>\n      <td>54+3</td>\n      <td>45+3</td>\n      <td>45+3</td>\n      <td>45+3</td>\n      <td>54+3</td>\n    </tr>\n    <tr>\n      <th>1</th>\n      <td>20801</td>\n      <td>https://sofifa.com/player/20801/c-ronaldo-dos-...</td>\n      <td>Cristiano Ronaldo</td>\n      <td>Cristiano Ronaldo dos Santos Aveiro</td>\n      <td>29</td>\n      <td>1985-02-05</td>\n      <td>185</td>\n      <td>80</td>\n      <td>Portugal</td>\n      <td>Real Madrid</td>\n      <td>...</td>\n      <td>63+3</td>\n      <td>63+3</td>\n      <td>63+3</td>\n      <td>63+3</td>\n      <td>63+3</td>\n      <td>57+3</td>\n      <td>52+3</td>\n      <td>52+3</td>\n      <td>52+3</td>\n      <td>57+3</td>\n    </tr>\n    <tr>\n      <th>2</th>\n      <td>9014</td>\n      <td>https://sofifa.com/player/9014/arjen-robben/15...</td>\n      <td>A. Robben</td>\n      <td>Arjen Robben</td>\n      <td>30</td>\n      <td>1984-01-23</td>\n      <td>180</td>\n      <td>80</td>\n      <td>Netherlands</td>\n      <td>FC Bayern München</td>\n      <td>...</td>\n      <td>64+3</td>\n      <td>64+3</td>\n      <td>64+3</td>\n      <td>64+3</td>\n      <td>64+3</td>\n      <td>55+3</td>\n      <td>46+3</td>\n      <td>46+3</td>\n      <td>46+3</td>\n      <td>55+3</td>\n    </tr>\n  </tbody>\n</table>\n<p>3 rows × 104 columns</p>\n</div>"
     },
     "metadata": {},
     "execution_count": 2
    }
   ],
   "source": [
    "p15 = pd.read_csv(\"./Group F Data/players_15.csv\")\n",
    "p15.head(3)"
   ]
  },
  {
   "cell_type": "code",
   "execution_count": 3,
   "metadata": {},
   "outputs": [
    {
     "output_type": "execute_result",
     "data": {
      "text/plain": [
       "   sofifa_id                                         player_url  \\\n",
       "0     158023  https://sofifa.com/player/158023/lionel-messi/...   \n",
       "1      20801  https://sofifa.com/player/20801/c-ronaldo-dos-...   \n",
       "2       9014  https://sofifa.com/player/9014/arjen-robben/16...   \n",
       "\n",
       "          short_name                            long_name  age         dob  \\\n",
       "0           L. Messi       Lionel Andrés Messi Cuccittini   28  1987-06-24   \n",
       "1  Cristiano Ronaldo  Cristiano Ronaldo dos Santos Aveiro   30  1985-02-05   \n",
       "2          A. Robben                         Arjen Robben   31  1984-01-23   \n",
       "\n",
       "   height_cm  weight_kg  nationality               club  ...   lwb   ldm  \\\n",
       "0        170         72    Argentina       FC Barcelona  ...  62+3  57+3   \n",
       "1        185         80     Portugal        Real Madrid  ...  64+3  60+3   \n",
       "2        180         80  Netherlands  FC Bayern München  ...  65+3  60+3   \n",
       "\n",
       "    cdm   rdm   rwb    lb   lcb    cb   rcb    rb  \n",
       "0  57+3  57+3  62+3  57+3  44+3  44+3  44+3  57+3  \n",
       "1  60+3  60+3  64+3  60+3  52+3  52+3  52+3  60+3  \n",
       "2  60+3  60+3  65+3  59+3  47+3  47+3  47+3  59+3  \n",
       "\n",
       "[3 rows x 104 columns]"
      ],
      "text/html": "<div>\n<style scoped>\n    .dataframe tbody tr th:only-of-type {\n        vertical-align: middle;\n    }\n\n    .dataframe tbody tr th {\n        vertical-align: top;\n    }\n\n    .dataframe thead th {\n        text-align: right;\n    }\n</style>\n<table border=\"1\" class=\"dataframe\">\n  <thead>\n    <tr style=\"text-align: right;\">\n      <th></th>\n      <th>sofifa_id</th>\n      <th>player_url</th>\n      <th>short_name</th>\n      <th>long_name</th>\n      <th>age</th>\n      <th>dob</th>\n      <th>height_cm</th>\n      <th>weight_kg</th>\n      <th>nationality</th>\n      <th>club</th>\n      <th>...</th>\n      <th>lwb</th>\n      <th>ldm</th>\n      <th>cdm</th>\n      <th>rdm</th>\n      <th>rwb</th>\n      <th>lb</th>\n      <th>lcb</th>\n      <th>cb</th>\n      <th>rcb</th>\n      <th>rb</th>\n    </tr>\n  </thead>\n  <tbody>\n    <tr>\n      <th>0</th>\n      <td>158023</td>\n      <td>https://sofifa.com/player/158023/lionel-messi/...</td>\n      <td>L. Messi</td>\n      <td>Lionel Andrés Messi Cuccittini</td>\n      <td>28</td>\n      <td>1987-06-24</td>\n      <td>170</td>\n      <td>72</td>\n      <td>Argentina</td>\n      <td>FC Barcelona</td>\n      <td>...</td>\n      <td>62+3</td>\n      <td>57+3</td>\n      <td>57+3</td>\n      <td>57+3</td>\n      <td>62+3</td>\n      <td>57+3</td>\n      <td>44+3</td>\n      <td>44+3</td>\n      <td>44+3</td>\n      <td>57+3</td>\n    </tr>\n    <tr>\n      <th>1</th>\n      <td>20801</td>\n      <td>https://sofifa.com/player/20801/c-ronaldo-dos-...</td>\n      <td>Cristiano Ronaldo</td>\n      <td>Cristiano Ronaldo dos Santos Aveiro</td>\n      <td>30</td>\n      <td>1985-02-05</td>\n      <td>185</td>\n      <td>80</td>\n      <td>Portugal</td>\n      <td>Real Madrid</td>\n      <td>...</td>\n      <td>64+3</td>\n      <td>60+3</td>\n      <td>60+3</td>\n      <td>60+3</td>\n      <td>64+3</td>\n      <td>60+3</td>\n      <td>52+3</td>\n      <td>52+3</td>\n      <td>52+3</td>\n      <td>60+3</td>\n    </tr>\n    <tr>\n      <th>2</th>\n      <td>9014</td>\n      <td>https://sofifa.com/player/9014/arjen-robben/16...</td>\n      <td>A. Robben</td>\n      <td>Arjen Robben</td>\n      <td>31</td>\n      <td>1984-01-23</td>\n      <td>180</td>\n      <td>80</td>\n      <td>Netherlands</td>\n      <td>FC Bayern München</td>\n      <td>...</td>\n      <td>65+3</td>\n      <td>60+3</td>\n      <td>60+3</td>\n      <td>60+3</td>\n      <td>65+3</td>\n      <td>59+3</td>\n      <td>47+3</td>\n      <td>47+3</td>\n      <td>47+3</td>\n      <td>59+3</td>\n    </tr>\n  </tbody>\n</table>\n<p>3 rows × 104 columns</p>\n</div>"
     },
     "metadata": {},
     "execution_count": 3
    }
   ],
   "source": [
    "p16 = pd.read_csv(\"./Group F Data/players_16.csv\")\n",
    "p16.head(3)"
   ]
  },
  {
   "cell_type": "code",
   "execution_count": 4,
   "metadata": {},
   "outputs": [
    {
     "output_type": "execute_result",
     "data": {
      "text/plain": [
       "   sofifa_id                                         player_url  \\\n",
       "0      20801  https://sofifa.com/player/20801/c-ronaldo-dos-...   \n",
       "1     158023  https://sofifa.com/player/158023/lionel-messi/...   \n",
       "2     190871  https://sofifa.com/player/190871/neymar-da-sil...   \n",
       "\n",
       "          short_name                            long_name  age         dob  \\\n",
       "0  Cristiano Ronaldo  Cristiano Ronaldo dos Santos Aveiro   31  1985-02-05   \n",
       "1           L. Messi       Lionel Andrés Messi Cuccittini   29  1987-06-24   \n",
       "2             Neymar        Neymar da Silva Santos Junior   24  1992-02-05   \n",
       "\n",
       "   height_cm  weight_kg nationality          club  ...   lwb   ldm   cdm  \\\n",
       "0        185         80    Portugal   Real Madrid  ...  66+3  61+3  61+3   \n",
       "1        170         72   Argentina  FC Barcelona  ...  63+3  59+3  59+3   \n",
       "2        174         68      Brazil  FC Barcelona  ...  64+3  59+3  59+3   \n",
       "\n",
       "    rdm   rwb    lb   lcb    cb   rcb    rb  \n",
       "0  61+3  66+3  62+3  53+3  53+3  53+3  62+3  \n",
       "1  59+3  63+3  58+3  46+3  46+3  46+3  58+3  \n",
       "2  59+3  64+3  59+3  46+3  46+3  46+3  59+3  \n",
       "\n",
       "[3 rows x 104 columns]"
      ],
      "text/html": "<div>\n<style scoped>\n    .dataframe tbody tr th:only-of-type {\n        vertical-align: middle;\n    }\n\n    .dataframe tbody tr th {\n        vertical-align: top;\n    }\n\n    .dataframe thead th {\n        text-align: right;\n    }\n</style>\n<table border=\"1\" class=\"dataframe\">\n  <thead>\n    <tr style=\"text-align: right;\">\n      <th></th>\n      <th>sofifa_id</th>\n      <th>player_url</th>\n      <th>short_name</th>\n      <th>long_name</th>\n      <th>age</th>\n      <th>dob</th>\n      <th>height_cm</th>\n      <th>weight_kg</th>\n      <th>nationality</th>\n      <th>club</th>\n      <th>...</th>\n      <th>lwb</th>\n      <th>ldm</th>\n      <th>cdm</th>\n      <th>rdm</th>\n      <th>rwb</th>\n      <th>lb</th>\n      <th>lcb</th>\n      <th>cb</th>\n      <th>rcb</th>\n      <th>rb</th>\n    </tr>\n  </thead>\n  <tbody>\n    <tr>\n      <th>0</th>\n      <td>20801</td>\n      <td>https://sofifa.com/player/20801/c-ronaldo-dos-...</td>\n      <td>Cristiano Ronaldo</td>\n      <td>Cristiano Ronaldo dos Santos Aveiro</td>\n      <td>31</td>\n      <td>1985-02-05</td>\n      <td>185</td>\n      <td>80</td>\n      <td>Portugal</td>\n      <td>Real Madrid</td>\n      <td>...</td>\n      <td>66+3</td>\n      <td>61+3</td>\n      <td>61+3</td>\n      <td>61+3</td>\n      <td>66+3</td>\n      <td>62+3</td>\n      <td>53+3</td>\n      <td>53+3</td>\n      <td>53+3</td>\n      <td>62+3</td>\n    </tr>\n    <tr>\n      <th>1</th>\n      <td>158023</td>\n      <td>https://sofifa.com/player/158023/lionel-messi/...</td>\n      <td>L. Messi</td>\n      <td>Lionel Andrés Messi Cuccittini</td>\n      <td>29</td>\n      <td>1987-06-24</td>\n      <td>170</td>\n      <td>72</td>\n      <td>Argentina</td>\n      <td>FC Barcelona</td>\n      <td>...</td>\n      <td>63+3</td>\n      <td>59+3</td>\n      <td>59+3</td>\n      <td>59+3</td>\n      <td>63+3</td>\n      <td>58+3</td>\n      <td>46+3</td>\n      <td>46+3</td>\n      <td>46+3</td>\n      <td>58+3</td>\n    </tr>\n    <tr>\n      <th>2</th>\n      <td>190871</td>\n      <td>https://sofifa.com/player/190871/neymar-da-sil...</td>\n      <td>Neymar</td>\n      <td>Neymar da Silva Santos Junior</td>\n      <td>24</td>\n      <td>1992-02-05</td>\n      <td>174</td>\n      <td>68</td>\n      <td>Brazil</td>\n      <td>FC Barcelona</td>\n      <td>...</td>\n      <td>64+3</td>\n      <td>59+3</td>\n      <td>59+3</td>\n      <td>59+3</td>\n      <td>64+3</td>\n      <td>59+3</td>\n      <td>46+3</td>\n      <td>46+3</td>\n      <td>46+3</td>\n      <td>59+3</td>\n    </tr>\n  </tbody>\n</table>\n<p>3 rows × 104 columns</p>\n</div>"
     },
     "metadata": {},
     "execution_count": 4
    }
   ],
   "source": [
    "p17 = pd.read_csv(\"./Group F Data/players_17.csv\")\n",
    "p17.head(3)"
   ]
  },
  {
   "cell_type": "code",
   "execution_count": 5,
   "metadata": {},
   "outputs": [
    {
     "output_type": "execute_result",
     "data": {
      "text/plain": [
       "   sofifa_id                                         player_url  \\\n",
       "0      20801  https://sofifa.com/player/20801/c-ronaldo-dos-...   \n",
       "1     158023  https://sofifa.com/player/158023/lionel-messi/...   \n",
       "2     190871  https://sofifa.com/player/190871/neymar-da-sil...   \n",
       "\n",
       "          short_name                            long_name  age         dob  \\\n",
       "0  Cristiano Ronaldo  Cristiano Ronaldo dos Santos Aveiro   32  1985-02-05   \n",
       "1           L. Messi       Lionel Andrés Messi Cuccittini   30  1987-06-24   \n",
       "2             Neymar        Neymar da Silva Santos Junior   25  1992-02-05   \n",
       "\n",
       "   height_cm  weight_kg nationality                 club  ...   lwb   ldm  \\\n",
       "0        185         80    Portugal          Real Madrid  ...  66+3  62+3   \n",
       "1        170         72   Argentina         FC Barcelona  ...  62+3  59+3   \n",
       "2        175         68      Brazil  Paris Saint-Germain  ...  64+3  59+3   \n",
       "\n",
       "    cdm   rdm   rwb    lb   lcb    cb   rcb    rb  \n",
       "0  62+3  62+3  66+3  62+3  53+3  53+3  53+3  62+3  \n",
       "1  59+3  59+3  62+3  58+3  46+3  46+3  46+3  58+3  \n",
       "2  59+3  59+3  64+3  60+3  47+3  47+3  47+3  60+3  \n",
       "\n",
       "[3 rows x 104 columns]"
      ],
      "text/html": "<div>\n<style scoped>\n    .dataframe tbody tr th:only-of-type {\n        vertical-align: middle;\n    }\n\n    .dataframe tbody tr th {\n        vertical-align: top;\n    }\n\n    .dataframe thead th {\n        text-align: right;\n    }\n</style>\n<table border=\"1\" class=\"dataframe\">\n  <thead>\n    <tr style=\"text-align: right;\">\n      <th></th>\n      <th>sofifa_id</th>\n      <th>player_url</th>\n      <th>short_name</th>\n      <th>long_name</th>\n      <th>age</th>\n      <th>dob</th>\n      <th>height_cm</th>\n      <th>weight_kg</th>\n      <th>nationality</th>\n      <th>club</th>\n      <th>...</th>\n      <th>lwb</th>\n      <th>ldm</th>\n      <th>cdm</th>\n      <th>rdm</th>\n      <th>rwb</th>\n      <th>lb</th>\n      <th>lcb</th>\n      <th>cb</th>\n      <th>rcb</th>\n      <th>rb</th>\n    </tr>\n  </thead>\n  <tbody>\n    <tr>\n      <th>0</th>\n      <td>20801</td>\n      <td>https://sofifa.com/player/20801/c-ronaldo-dos-...</td>\n      <td>Cristiano Ronaldo</td>\n      <td>Cristiano Ronaldo dos Santos Aveiro</td>\n      <td>32</td>\n      <td>1985-02-05</td>\n      <td>185</td>\n      <td>80</td>\n      <td>Portugal</td>\n      <td>Real Madrid</td>\n      <td>...</td>\n      <td>66+3</td>\n      <td>62+3</td>\n      <td>62+3</td>\n      <td>62+3</td>\n      <td>66+3</td>\n      <td>62+3</td>\n      <td>53+3</td>\n      <td>53+3</td>\n      <td>53+3</td>\n      <td>62+3</td>\n    </tr>\n    <tr>\n      <th>1</th>\n      <td>158023</td>\n      <td>https://sofifa.com/player/158023/lionel-messi/...</td>\n      <td>L. Messi</td>\n      <td>Lionel Andrés Messi Cuccittini</td>\n      <td>30</td>\n      <td>1987-06-24</td>\n      <td>170</td>\n      <td>72</td>\n      <td>Argentina</td>\n      <td>FC Barcelona</td>\n      <td>...</td>\n      <td>62+3</td>\n      <td>59+3</td>\n      <td>59+3</td>\n      <td>59+3</td>\n      <td>62+3</td>\n      <td>58+3</td>\n      <td>46+3</td>\n      <td>46+3</td>\n      <td>46+3</td>\n      <td>58+3</td>\n    </tr>\n    <tr>\n      <th>2</th>\n      <td>190871</td>\n      <td>https://sofifa.com/player/190871/neymar-da-sil...</td>\n      <td>Neymar</td>\n      <td>Neymar da Silva Santos Junior</td>\n      <td>25</td>\n      <td>1992-02-05</td>\n      <td>175</td>\n      <td>68</td>\n      <td>Brazil</td>\n      <td>Paris Saint-Germain</td>\n      <td>...</td>\n      <td>64+3</td>\n      <td>59+3</td>\n      <td>59+3</td>\n      <td>59+3</td>\n      <td>64+3</td>\n      <td>60+3</td>\n      <td>47+3</td>\n      <td>47+3</td>\n      <td>47+3</td>\n      <td>60+3</td>\n    </tr>\n  </tbody>\n</table>\n<p>3 rows × 104 columns</p>\n</div>"
     },
     "metadata": {},
     "execution_count": 5
    }
   ],
   "source": [
    "p18 = pd.read_csv(\"./Group F Data/players_18.csv\")\n",
    "p18.head(3)"
   ]
  },
  {
   "cell_type": "code",
   "execution_count": 6,
   "metadata": {},
   "outputs": [
    {
     "output_type": "execute_result",
     "data": {
      "text/plain": [
       "   sofifa_id                                         player_url  \\\n",
       "0      20801  https://sofifa.com/player/20801/c-ronaldo-dos-...   \n",
       "1     158023  https://sofifa.com/player/158023/lionel-messi/...   \n",
       "2     190871  https://sofifa.com/player/190871/neymar-da-sil...   \n",
       "\n",
       "          short_name                            long_name  age         dob  \\\n",
       "0  Cristiano Ronaldo  Cristiano Ronaldo dos Santos Aveiro   33  1985-02-05   \n",
       "1           L. Messi       Lionel Andrés Messi Cuccittini   31  1987-06-24   \n",
       "2          Neymar Jr        Neymar da Silva Santos Junior   26  1992-02-05   \n",
       "\n",
       "   height_cm  weight_kg nationality                 club  ...   lwb   ldm  \\\n",
       "0        187         83    Portugal             Juventus  ...  65+3  61+3   \n",
       "1        170         72   Argentina         FC Barcelona  ...  63+2  61+2   \n",
       "2        175         68      Brazil  Paris Saint-Germain  ...  65+3  60+3   \n",
       "\n",
       "    cdm   rdm   rwb    lb   lcb    cb   rcb    rb  \n",
       "0  61+3  61+3  65+3  61+3  53+3  53+3  53+3  61+3  \n",
       "1  61+2  61+2  63+2  58+2  47+2  47+2  47+2  58+2  \n",
       "2  60+3  60+3  65+3  60+3  47+3  47+3  47+3  60+3  \n",
       "\n",
       "[3 rows x 104 columns]"
      ],
      "text/html": "<div>\n<style scoped>\n    .dataframe tbody tr th:only-of-type {\n        vertical-align: middle;\n    }\n\n    .dataframe tbody tr th {\n        vertical-align: top;\n    }\n\n    .dataframe thead th {\n        text-align: right;\n    }\n</style>\n<table border=\"1\" class=\"dataframe\">\n  <thead>\n    <tr style=\"text-align: right;\">\n      <th></th>\n      <th>sofifa_id</th>\n      <th>player_url</th>\n      <th>short_name</th>\n      <th>long_name</th>\n      <th>age</th>\n      <th>dob</th>\n      <th>height_cm</th>\n      <th>weight_kg</th>\n      <th>nationality</th>\n      <th>club</th>\n      <th>...</th>\n      <th>lwb</th>\n      <th>ldm</th>\n      <th>cdm</th>\n      <th>rdm</th>\n      <th>rwb</th>\n      <th>lb</th>\n      <th>lcb</th>\n      <th>cb</th>\n      <th>rcb</th>\n      <th>rb</th>\n    </tr>\n  </thead>\n  <tbody>\n    <tr>\n      <th>0</th>\n      <td>20801</td>\n      <td>https://sofifa.com/player/20801/c-ronaldo-dos-...</td>\n      <td>Cristiano Ronaldo</td>\n      <td>Cristiano Ronaldo dos Santos Aveiro</td>\n      <td>33</td>\n      <td>1985-02-05</td>\n      <td>187</td>\n      <td>83</td>\n      <td>Portugal</td>\n      <td>Juventus</td>\n      <td>...</td>\n      <td>65+3</td>\n      <td>61+3</td>\n      <td>61+3</td>\n      <td>61+3</td>\n      <td>65+3</td>\n      <td>61+3</td>\n      <td>53+3</td>\n      <td>53+3</td>\n      <td>53+3</td>\n      <td>61+3</td>\n    </tr>\n    <tr>\n      <th>1</th>\n      <td>158023</td>\n      <td>https://sofifa.com/player/158023/lionel-messi/...</td>\n      <td>L. Messi</td>\n      <td>Lionel Andrés Messi Cuccittini</td>\n      <td>31</td>\n      <td>1987-06-24</td>\n      <td>170</td>\n      <td>72</td>\n      <td>Argentina</td>\n      <td>FC Barcelona</td>\n      <td>...</td>\n      <td>63+2</td>\n      <td>61+2</td>\n      <td>61+2</td>\n      <td>61+2</td>\n      <td>63+2</td>\n      <td>58+2</td>\n      <td>47+2</td>\n      <td>47+2</td>\n      <td>47+2</td>\n      <td>58+2</td>\n    </tr>\n    <tr>\n      <th>2</th>\n      <td>190871</td>\n      <td>https://sofifa.com/player/190871/neymar-da-sil...</td>\n      <td>Neymar Jr</td>\n      <td>Neymar da Silva Santos Junior</td>\n      <td>26</td>\n      <td>1992-02-05</td>\n      <td>175</td>\n      <td>68</td>\n      <td>Brazil</td>\n      <td>Paris Saint-Germain</td>\n      <td>...</td>\n      <td>65+3</td>\n      <td>60+3</td>\n      <td>60+3</td>\n      <td>60+3</td>\n      <td>65+3</td>\n      <td>60+3</td>\n      <td>47+3</td>\n      <td>47+3</td>\n      <td>47+3</td>\n      <td>60+3</td>\n    </tr>\n  </tbody>\n</table>\n<p>3 rows × 104 columns</p>\n</div>"
     },
     "metadata": {},
     "execution_count": 6
    }
   ],
   "source": [
    "p19 = pd.read_csv(\"./Group F Data/players_19.csv\")\n",
    "p19.head(3)"
   ]
  },
  {
   "cell_type": "code",
   "execution_count": 7,
   "metadata": {},
   "outputs": [
    {
     "output_type": "execute_result",
     "data": {
      "text/plain": [
       "   sofifa_id                                         player_url  \\\n",
       "0     158023  https://sofifa.com/player/158023/lionel-messi/...   \n",
       "1      20801  https://sofifa.com/player/20801/c-ronaldo-dos-...   \n",
       "2     190871  https://sofifa.com/player/190871/neymar-da-sil...   \n",
       "\n",
       "          short_name                            long_name  age         dob  \\\n",
       "0           L. Messi       Lionel Andrés Messi Cuccittini   32  1987-06-24   \n",
       "1  Cristiano Ronaldo  Cristiano Ronaldo dos Santos Aveiro   34  1985-02-05   \n",
       "2          Neymar Jr        Neymar da Silva Santos Junior   27  1992-02-05   \n",
       "\n",
       "   height_cm  weight_kg nationality                 club  ...   lwb   ldm  \\\n",
       "0        170         72   Argentina         FC Barcelona  ...  68+2  66+2   \n",
       "1        187         83    Portugal             Juventus  ...  65+3  61+3   \n",
       "2        175         68      Brazil  Paris Saint-Germain  ...  66+3  61+3   \n",
       "\n",
       "    cdm   rdm   rwb    lb   lcb    cb   rcb    rb  \n",
       "0  66+2  66+2  68+2  63+2  52+2  52+2  52+2  63+2  \n",
       "1  61+3  61+3  65+3  61+3  53+3  53+3  53+3  61+3  \n",
       "2  61+3  61+3  66+3  61+3  46+3  46+3  46+3  61+3  \n",
       "\n",
       "[3 rows x 104 columns]"
      ],
      "text/html": "<div>\n<style scoped>\n    .dataframe tbody tr th:only-of-type {\n        vertical-align: middle;\n    }\n\n    .dataframe tbody tr th {\n        vertical-align: top;\n    }\n\n    .dataframe thead th {\n        text-align: right;\n    }\n</style>\n<table border=\"1\" class=\"dataframe\">\n  <thead>\n    <tr style=\"text-align: right;\">\n      <th></th>\n      <th>sofifa_id</th>\n      <th>player_url</th>\n      <th>short_name</th>\n      <th>long_name</th>\n      <th>age</th>\n      <th>dob</th>\n      <th>height_cm</th>\n      <th>weight_kg</th>\n      <th>nationality</th>\n      <th>club</th>\n      <th>...</th>\n      <th>lwb</th>\n      <th>ldm</th>\n      <th>cdm</th>\n      <th>rdm</th>\n      <th>rwb</th>\n      <th>lb</th>\n      <th>lcb</th>\n      <th>cb</th>\n      <th>rcb</th>\n      <th>rb</th>\n    </tr>\n  </thead>\n  <tbody>\n    <tr>\n      <th>0</th>\n      <td>158023</td>\n      <td>https://sofifa.com/player/158023/lionel-messi/...</td>\n      <td>L. Messi</td>\n      <td>Lionel Andrés Messi Cuccittini</td>\n      <td>32</td>\n      <td>1987-06-24</td>\n      <td>170</td>\n      <td>72</td>\n      <td>Argentina</td>\n      <td>FC Barcelona</td>\n      <td>...</td>\n      <td>68+2</td>\n      <td>66+2</td>\n      <td>66+2</td>\n      <td>66+2</td>\n      <td>68+2</td>\n      <td>63+2</td>\n      <td>52+2</td>\n      <td>52+2</td>\n      <td>52+2</td>\n      <td>63+2</td>\n    </tr>\n    <tr>\n      <th>1</th>\n      <td>20801</td>\n      <td>https://sofifa.com/player/20801/c-ronaldo-dos-...</td>\n      <td>Cristiano Ronaldo</td>\n      <td>Cristiano Ronaldo dos Santos Aveiro</td>\n      <td>34</td>\n      <td>1985-02-05</td>\n      <td>187</td>\n      <td>83</td>\n      <td>Portugal</td>\n      <td>Juventus</td>\n      <td>...</td>\n      <td>65+3</td>\n      <td>61+3</td>\n      <td>61+3</td>\n      <td>61+3</td>\n      <td>65+3</td>\n      <td>61+3</td>\n      <td>53+3</td>\n      <td>53+3</td>\n      <td>53+3</td>\n      <td>61+3</td>\n    </tr>\n    <tr>\n      <th>2</th>\n      <td>190871</td>\n      <td>https://sofifa.com/player/190871/neymar-da-sil...</td>\n      <td>Neymar Jr</td>\n      <td>Neymar da Silva Santos Junior</td>\n      <td>27</td>\n      <td>1992-02-05</td>\n      <td>175</td>\n      <td>68</td>\n      <td>Brazil</td>\n      <td>Paris Saint-Germain</td>\n      <td>...</td>\n      <td>66+3</td>\n      <td>61+3</td>\n      <td>61+3</td>\n      <td>61+3</td>\n      <td>66+3</td>\n      <td>61+3</td>\n      <td>46+3</td>\n      <td>46+3</td>\n      <td>46+3</td>\n      <td>61+3</td>\n    </tr>\n  </tbody>\n</table>\n<p>3 rows × 104 columns</p>\n</div>"
     },
     "metadata": {},
     "execution_count": 7
    }
   ],
   "source": [
    "p20 = pd.read_csv(\"./Group F Data/players_20.csv\")\n",
    "p20.head(3)"
   ]
  },
  {
   "cell_type": "code",
   "execution_count": 10,
   "metadata": {},
   "outputs": [
    {
     "output_type": "execute_result",
     "data": {
      "text/plain": [
       "  Div        Date           HomeTeam              AwayTeam  FTHG  FTAG FTR  \\\n",
       "0  B1  27.07.2018  Standard de Liège              KAA Gent     3     2   H   \n",
       "1  B1  28.07.2018        KV Kortrijk        RSC Anderlecht     1     4   A   \n",
       "2  B1  28.07.2018        KV Oostende  Royal Excel Mouscron     2     1   H   \n",
       "\n",
       "   HTHG  HTAG HTR  ...  BbAv<2.5  BbAH  BbAHh  BbMxAHH  BbAvAHH  BbMxAHA  \\\n",
       "0     1     1   D  ...    Oca.74    21  -0.25   Oca.97   Oca.92   Oca.96   \n",
       "1     0     2   A  ...    Þub.21    19   0.75    1.Eyl   Oca.84    2.May   \n",
       "2     0     1   A  ...     2.Nis    22     -1   Oca.97    1.Eyl   Oca.97   \n",
       "\n",
       "   BbAvAHA    PSCH    PSCD    PSCA  \n",
       "0   Oca.91  Þub.35  Mar.28  Mar.31  \n",
       "1   Oca.98  Mar.67  Mar.86  Oca.99  \n",
       "2   Oca.91  Oca.57  Nis.31   6.Aðu  \n",
       "\n",
       "[3 rows x 61 columns]"
      ],
      "text/html": "<div>\n<style scoped>\n    .dataframe tbody tr th:only-of-type {\n        vertical-align: middle;\n    }\n\n    .dataframe tbody tr th {\n        vertical-align: top;\n    }\n\n    .dataframe thead th {\n        text-align: right;\n    }\n</style>\n<table border=\"1\" class=\"dataframe\">\n  <thead>\n    <tr style=\"text-align: right;\">\n      <th></th>\n      <th>Div</th>\n      <th>Date</th>\n      <th>HomeTeam</th>\n      <th>AwayTeam</th>\n      <th>FTHG</th>\n      <th>FTAG</th>\n      <th>FTR</th>\n      <th>HTHG</th>\n      <th>HTAG</th>\n      <th>HTR</th>\n      <th>...</th>\n      <th>BbAv&lt;2.5</th>\n      <th>BbAH</th>\n      <th>BbAHh</th>\n      <th>BbMxAHH</th>\n      <th>BbAvAHH</th>\n      <th>BbMxAHA</th>\n      <th>BbAvAHA</th>\n      <th>PSCH</th>\n      <th>PSCD</th>\n      <th>PSCA</th>\n    </tr>\n  </thead>\n  <tbody>\n    <tr>\n      <th>0</th>\n      <td>B1</td>\n      <td>27.07.2018</td>\n      <td>Standard de Liège</td>\n      <td>KAA Gent</td>\n      <td>3</td>\n      <td>2</td>\n      <td>H</td>\n      <td>1</td>\n      <td>1</td>\n      <td>D</td>\n      <td>...</td>\n      <td>Oca.74</td>\n      <td>21</td>\n      <td>-0.25</td>\n      <td>Oca.97</td>\n      <td>Oca.92</td>\n      <td>Oca.96</td>\n      <td>Oca.91</td>\n      <td>Þub.35</td>\n      <td>Mar.28</td>\n      <td>Mar.31</td>\n    </tr>\n    <tr>\n      <th>1</th>\n      <td>B1</td>\n      <td>28.07.2018</td>\n      <td>KV Kortrijk</td>\n      <td>RSC Anderlecht</td>\n      <td>1</td>\n      <td>4</td>\n      <td>A</td>\n      <td>0</td>\n      <td>2</td>\n      <td>A</td>\n      <td>...</td>\n      <td>Þub.21</td>\n      <td>19</td>\n      <td>0.75</td>\n      <td>1.Eyl</td>\n      <td>Oca.84</td>\n      <td>2.May</td>\n      <td>Oca.98</td>\n      <td>Mar.67</td>\n      <td>Mar.86</td>\n      <td>Oca.99</td>\n    </tr>\n    <tr>\n      <th>2</th>\n      <td>B1</td>\n      <td>28.07.2018</td>\n      <td>KV Oostende</td>\n      <td>Royal Excel Mouscron</td>\n      <td>2</td>\n      <td>1</td>\n      <td>H</td>\n      <td>0</td>\n      <td>1</td>\n      <td>A</td>\n      <td>...</td>\n      <td>2.Nis</td>\n      <td>22</td>\n      <td>-1</td>\n      <td>Oca.97</td>\n      <td>1.Eyl</td>\n      <td>Oca.97</td>\n      <td>Oca.91</td>\n      <td>Oca.57</td>\n      <td>Nis.31</td>\n      <td>6.Aðu</td>\n    </tr>\n  </tbody>\n</table>\n<p>3 rows × 61 columns</p>\n</div>"
     },
     "metadata": {},
     "execution_count": 10
    }
   ],
   "source": [
    "be = pd.read_csv(\"./Group F Data/BE.csv\", sep=\";\", encoding = 'unicode_escape')\n",
    "be.head(3)"
   ]
  },
  {
   "cell_type": "code",
   "execution_count": 11,
   "metadata": {},
   "outputs": [
    {
     "output_type": "execute_result",
     "data": {
      "text/plain": [
       "  Div        Date            HomeTeam             AwayTeam  FTHG  FTAG FTR  \\\n",
       "0  D1  24.08.2018   FC Bayern München  TSG 1899 Hoffenheim     3     1   H   \n",
       "1  D1  25.08.2018  Fortuna Düsseldorf          FC Augsburg     1     2   A   \n",
       "2  D1  25.08.2018         SC Freiburg  Eintracht Frankfurt     0     2   A   \n",
       "\n",
       "   HTHG  HTAG HTR  ...  BbAv<2.5  BbAH  BbAHh  BbMxAHH  BbAvAHH  BbMxAHA  \\\n",
       "0     1     0   H  ...    Mar.55    22     -2   Oca.92   Oca.87    2.May   \n",
       "1     1     0   H  ...    Oca.76    20      0    1.Aðu   Oca.76   Þub.17   \n",
       "2     0     1   A  ...    Oca.69    20  -0.25    2.Þub   Oca.99   Oca.92   \n",
       "\n",
       "   BbAvAHA    PSCH    PSCD    PSCA  \n",
       "0   Oca.99  Oca.23  Tem.15  14.Oca  \n",
       "1    2.Kas  Þub.74  Mar.33  Þub.78  \n",
       "2   Oca.88  Þub.52   3.Mar   3.Tem  \n",
       "\n",
       "[3 rows x 61 columns]"
      ],
      "text/html": "<div>\n<style scoped>\n    .dataframe tbody tr th:only-of-type {\n        vertical-align: middle;\n    }\n\n    .dataframe tbody tr th {\n        vertical-align: top;\n    }\n\n    .dataframe thead th {\n        text-align: right;\n    }\n</style>\n<table border=\"1\" class=\"dataframe\">\n  <thead>\n    <tr style=\"text-align: right;\">\n      <th></th>\n      <th>Div</th>\n      <th>Date</th>\n      <th>HomeTeam</th>\n      <th>AwayTeam</th>\n      <th>FTHG</th>\n      <th>FTAG</th>\n      <th>FTR</th>\n      <th>HTHG</th>\n      <th>HTAG</th>\n      <th>HTR</th>\n      <th>...</th>\n      <th>BbAv&lt;2.5</th>\n      <th>BbAH</th>\n      <th>BbAHh</th>\n      <th>BbMxAHH</th>\n      <th>BbAvAHH</th>\n      <th>BbMxAHA</th>\n      <th>BbAvAHA</th>\n      <th>PSCH</th>\n      <th>PSCD</th>\n      <th>PSCA</th>\n    </tr>\n  </thead>\n  <tbody>\n    <tr>\n      <th>0</th>\n      <td>D1</td>\n      <td>24.08.2018</td>\n      <td>FC Bayern München</td>\n      <td>TSG 1899 Hoffenheim</td>\n      <td>3</td>\n      <td>1</td>\n      <td>H</td>\n      <td>1</td>\n      <td>0</td>\n      <td>H</td>\n      <td>...</td>\n      <td>Mar.55</td>\n      <td>22</td>\n      <td>-2</td>\n      <td>Oca.92</td>\n      <td>Oca.87</td>\n      <td>2.May</td>\n      <td>Oca.99</td>\n      <td>Oca.23</td>\n      <td>Tem.15</td>\n      <td>14.Oca</td>\n    </tr>\n    <tr>\n      <th>1</th>\n      <td>D1</td>\n      <td>25.08.2018</td>\n      <td>Fortuna Düsseldorf</td>\n      <td>FC Augsburg</td>\n      <td>1</td>\n      <td>2</td>\n      <td>A</td>\n      <td>1</td>\n      <td>0</td>\n      <td>H</td>\n      <td>...</td>\n      <td>Oca.76</td>\n      <td>20</td>\n      <td>0</td>\n      <td>1.Aðu</td>\n      <td>Oca.76</td>\n      <td>Þub.17</td>\n      <td>2.Kas</td>\n      <td>Þub.74</td>\n      <td>Mar.33</td>\n      <td>Þub.78</td>\n    </tr>\n    <tr>\n      <th>2</th>\n      <td>D1</td>\n      <td>25.08.2018</td>\n      <td>SC Freiburg</td>\n      <td>Eintracht Frankfurt</td>\n      <td>0</td>\n      <td>2</td>\n      <td>A</td>\n      <td>0</td>\n      <td>1</td>\n      <td>A</td>\n      <td>...</td>\n      <td>Oca.69</td>\n      <td>20</td>\n      <td>-0.25</td>\n      <td>2.Þub</td>\n      <td>Oca.99</td>\n      <td>Oca.92</td>\n      <td>Oca.88</td>\n      <td>Þub.52</td>\n      <td>3.Mar</td>\n      <td>3.Tem</td>\n    </tr>\n  </tbody>\n</table>\n<p>3 rows × 61 columns</p>\n</div>"
     },
     "metadata": {},
     "execution_count": 11
    }
   ],
   "source": [
    "de = pd.read_csv(\"./Group F Data/DE.csv\", sep=\";\", encoding = 'unicode_escape')\n",
    "de.head(3)"
   ]
  },
  {
   "cell_type": "code",
   "execution_count": 12,
   "metadata": {},
   "outputs": [
    {
     "output_type": "execute_result",
     "data": {
      "text/plain": [
       "   Div        Date      HomeTeam            AwayTeam  FTHG  FTAG FTR  HTHG  \\\n",
       "0  SP1  17.08.2018    Real Betis          Levante UD     0     3   A     0   \n",
       "1  SP1  17.08.2018     Girona FC  Real Valladolid CF     0     0   D     0   \n",
       "2  SP1  18.08.2018  FC Barcelona    Deportivo Alavés     3     0   H     0   \n",
       "\n",
       "   HTAG HTR  ...  BbAv<2.5  BbAH  BbAHh  BbMxAHH  BbAvAHH  BbMxAHA  BbAvAHA  \\\n",
       "0     1   A  ...     2.Haz    20  -0.75   Oca.89   Oca.85    2.Tem        2   \n",
       "1     0   D  ...    Oca.71    20  -0.75    2.Haz    2.Oca    1.Eyl   Oca.85   \n",
       "2     0   D  ...    Mar.18    19   -2.5   Oca.95   Oca.91        2   Oca.95   \n",
       "\n",
       "     PSCH    PSCD    PSCA  \n",
       "0  Oca.59  Nis.42  May.89  \n",
       "1  Oca.76  Mar.57  May.62  \n",
       "2   1.Oca  Kas.85   32.17  \n",
       "\n",
       "[3 rows x 61 columns]"
      ],
      "text/html": "<div>\n<style scoped>\n    .dataframe tbody tr th:only-of-type {\n        vertical-align: middle;\n    }\n\n    .dataframe tbody tr th {\n        vertical-align: top;\n    }\n\n    .dataframe thead th {\n        text-align: right;\n    }\n</style>\n<table border=\"1\" class=\"dataframe\">\n  <thead>\n    <tr style=\"text-align: right;\">\n      <th></th>\n      <th>Div</th>\n      <th>Date</th>\n      <th>HomeTeam</th>\n      <th>AwayTeam</th>\n      <th>FTHG</th>\n      <th>FTAG</th>\n      <th>FTR</th>\n      <th>HTHG</th>\n      <th>HTAG</th>\n      <th>HTR</th>\n      <th>...</th>\n      <th>BbAv&lt;2.5</th>\n      <th>BbAH</th>\n      <th>BbAHh</th>\n      <th>BbMxAHH</th>\n      <th>BbAvAHH</th>\n      <th>BbMxAHA</th>\n      <th>BbAvAHA</th>\n      <th>PSCH</th>\n      <th>PSCD</th>\n      <th>PSCA</th>\n    </tr>\n  </thead>\n  <tbody>\n    <tr>\n      <th>0</th>\n      <td>SP1</td>\n      <td>17.08.2018</td>\n      <td>Real Betis</td>\n      <td>Levante UD</td>\n      <td>0</td>\n      <td>3</td>\n      <td>A</td>\n      <td>0</td>\n      <td>1</td>\n      <td>A</td>\n      <td>...</td>\n      <td>2.Haz</td>\n      <td>20</td>\n      <td>-0.75</td>\n      <td>Oca.89</td>\n      <td>Oca.85</td>\n      <td>2.Tem</td>\n      <td>2</td>\n      <td>Oca.59</td>\n      <td>Nis.42</td>\n      <td>May.89</td>\n    </tr>\n    <tr>\n      <th>1</th>\n      <td>SP1</td>\n      <td>17.08.2018</td>\n      <td>Girona FC</td>\n      <td>Real Valladolid CF</td>\n      <td>0</td>\n      <td>0</td>\n      <td>D</td>\n      <td>0</td>\n      <td>0</td>\n      <td>D</td>\n      <td>...</td>\n      <td>Oca.71</td>\n      <td>20</td>\n      <td>-0.75</td>\n      <td>2.Haz</td>\n      <td>2.Oca</td>\n      <td>1.Eyl</td>\n      <td>Oca.85</td>\n      <td>Oca.76</td>\n      <td>Mar.57</td>\n      <td>May.62</td>\n    </tr>\n    <tr>\n      <th>2</th>\n      <td>SP1</td>\n      <td>18.08.2018</td>\n      <td>FC Barcelona</td>\n      <td>Deportivo Alavés</td>\n      <td>3</td>\n      <td>0</td>\n      <td>H</td>\n      <td>0</td>\n      <td>0</td>\n      <td>D</td>\n      <td>...</td>\n      <td>Mar.18</td>\n      <td>19</td>\n      <td>-2.5</td>\n      <td>Oca.95</td>\n      <td>Oca.91</td>\n      <td>2</td>\n      <td>Oca.95</td>\n      <td>1.Oca</td>\n      <td>Kas.85</td>\n      <td>32.17</td>\n    </tr>\n  </tbody>\n</table>\n<p>3 rows × 61 columns</p>\n</div>"
     },
     "metadata": {},
     "execution_count": 12
    }
   ],
   "source": [
    "es = pd.read_csv(\"./Group F Data/ES.csv\", sep=\";\", encoding = 'unicode_escape')\n",
    "es.head(3)"
   ]
  },
  {
   "cell_type": "code",
   "execution_count": 13,
   "metadata": {},
   "outputs": [
    {
     "output_type": "execute_result",
     "data": {
      "text/plain": [
       "  Div        Date                HomeTeam                AwayTeam  FTHG  FTAG  \\\n",
       "0  F1  10.08.2018  Olympique de Marseille  Toulouse Football Club     4     0   \n",
       "1  F1  11.08.2018              Angers SCO         Nîmes Olympique     3     4   \n",
       "2  F1  11.08.2018              LOSC Lille        Stade Rennais FC     3     1   \n",
       "\n",
       "  FTR  HTHG  HTAG HTR  ...  BbAv<2.5  BbAH  BbAHh  BbMxAHH  BbAvAHH  BbMxAHA  \\\n",
       "0   H     1     0   H  ...     2.Kas    18  -1.25    2.May   Oca.98   Oca.91   \n",
       "1   A     1     1   D  ...    Oca.66    20  -0.25   Oca.99   Oca.95   Oca.94   \n",
       "2   H     1     1   D  ...    Oca.64    20      0   Oca.82   Oca.77   Þub.15   \n",
       "\n",
       "   BbAvAHA    PSCH    PSCD    PSCA  \n",
       "0   Oca.87  Oca.48  Nis.53   7.Tem  \n",
       "1    1.Eyl  Þub.36  Mar.15  Mar.51  \n",
       "2    2.Eyl  Þub.81  Mar.31  Þub.72  \n",
       "\n",
       "[3 rows x 61 columns]"
      ],
      "text/html": "<div>\n<style scoped>\n    .dataframe tbody tr th:only-of-type {\n        vertical-align: middle;\n    }\n\n    .dataframe tbody tr th {\n        vertical-align: top;\n    }\n\n    .dataframe thead th {\n        text-align: right;\n    }\n</style>\n<table border=\"1\" class=\"dataframe\">\n  <thead>\n    <tr style=\"text-align: right;\">\n      <th></th>\n      <th>Div</th>\n      <th>Date</th>\n      <th>HomeTeam</th>\n      <th>AwayTeam</th>\n      <th>FTHG</th>\n      <th>FTAG</th>\n      <th>FTR</th>\n      <th>HTHG</th>\n      <th>HTAG</th>\n      <th>HTR</th>\n      <th>...</th>\n      <th>BbAv&lt;2.5</th>\n      <th>BbAH</th>\n      <th>BbAHh</th>\n      <th>BbMxAHH</th>\n      <th>BbAvAHH</th>\n      <th>BbMxAHA</th>\n      <th>BbAvAHA</th>\n      <th>PSCH</th>\n      <th>PSCD</th>\n      <th>PSCA</th>\n    </tr>\n  </thead>\n  <tbody>\n    <tr>\n      <th>0</th>\n      <td>F1</td>\n      <td>10.08.2018</td>\n      <td>Olympique de Marseille</td>\n      <td>Toulouse Football Club</td>\n      <td>4</td>\n      <td>0</td>\n      <td>H</td>\n      <td>1</td>\n      <td>0</td>\n      <td>H</td>\n      <td>...</td>\n      <td>2.Kas</td>\n      <td>18</td>\n      <td>-1.25</td>\n      <td>2.May</td>\n      <td>Oca.98</td>\n      <td>Oca.91</td>\n      <td>Oca.87</td>\n      <td>Oca.48</td>\n      <td>Nis.53</td>\n      <td>7.Tem</td>\n    </tr>\n    <tr>\n      <th>1</th>\n      <td>F1</td>\n      <td>11.08.2018</td>\n      <td>Angers SCO</td>\n      <td>Nîmes Olympique</td>\n      <td>3</td>\n      <td>4</td>\n      <td>A</td>\n      <td>1</td>\n      <td>1</td>\n      <td>D</td>\n      <td>...</td>\n      <td>Oca.66</td>\n      <td>20</td>\n      <td>-0.25</td>\n      <td>Oca.99</td>\n      <td>Oca.95</td>\n      <td>Oca.94</td>\n      <td>1.Eyl</td>\n      <td>Þub.36</td>\n      <td>Mar.15</td>\n      <td>Mar.51</td>\n    </tr>\n    <tr>\n      <th>2</th>\n      <td>F1</td>\n      <td>11.08.2018</td>\n      <td>LOSC Lille</td>\n      <td>Stade Rennais FC</td>\n      <td>3</td>\n      <td>1</td>\n      <td>H</td>\n      <td>1</td>\n      <td>1</td>\n      <td>D</td>\n      <td>...</td>\n      <td>Oca.64</td>\n      <td>20</td>\n      <td>0</td>\n      <td>Oca.82</td>\n      <td>Oca.77</td>\n      <td>Þub.15</td>\n      <td>2.Eyl</td>\n      <td>Þub.81</td>\n      <td>Mar.31</td>\n      <td>Þub.72</td>\n    </tr>\n  </tbody>\n</table>\n<p>3 rows × 61 columns</p>\n</div>"
     },
     "metadata": {},
     "execution_count": 13
    }
   ],
   "source": [
    "fr = pd.read_csv(\"./Group F Data/FR.csv\", sep=\";\", encoding = 'unicode_escape')\n",
    "fr.head(3)"
   ]
  },
  {
   "cell_type": "code",
   "execution_count": 14,
   "metadata": {},
   "outputs": [
    {
     "output_type": "execute_result",
     "data": {
      "text/plain": [
       "  Div        Date       HomeTeam  AwayTeam  FTHG  FTAG FTR  HTHG  HTAG HTR  \\\n",
       "0  I1  18.08.2018  Chievo Verona  Juventus     2     3   A     1     1   D   \n",
       "1  I1  18.08.2018          Lazio    Napoli     1     2   A     1     1   D   \n",
       "2  I1  19.08.2018        Bologna      Spal     0     1   A     0     0   D   \n",
       "\n",
       "   ...  BbAv<2.5  BbAH  BbAHh  BbMxAHH  BbAvAHH  BbMxAHA  BbAvAHA    PSCH  \\\n",
       "0  ...    Þub.13    19      2   Oca.68   Oca.64   Þub.38   Þub.29   18.84   \n",
       "1  ...    Þub.17    20      0    2.Ara    2.Tem   Oca.83   Oca.79  Þub.78   \n",
       "2  ...    Oca.58    19  -0.25   Oca.97   Oca.92   Oca.99   Oca.94  Þub.31   \n",
       "\n",
       "     PSCD    PSCA  \n",
       "0  Haz.42  Oca.22  \n",
       "1  Mar.57  Þub.59  \n",
       "2  Mar.18  Mar.59  \n",
       "\n",
       "[3 rows x 61 columns]"
      ],
      "text/html": "<div>\n<style scoped>\n    .dataframe tbody tr th:only-of-type {\n        vertical-align: middle;\n    }\n\n    .dataframe tbody tr th {\n        vertical-align: top;\n    }\n\n    .dataframe thead th {\n        text-align: right;\n    }\n</style>\n<table border=\"1\" class=\"dataframe\">\n  <thead>\n    <tr style=\"text-align: right;\">\n      <th></th>\n      <th>Div</th>\n      <th>Date</th>\n      <th>HomeTeam</th>\n      <th>AwayTeam</th>\n      <th>FTHG</th>\n      <th>FTAG</th>\n      <th>FTR</th>\n      <th>HTHG</th>\n      <th>HTAG</th>\n      <th>HTR</th>\n      <th>...</th>\n      <th>BbAv&lt;2.5</th>\n      <th>BbAH</th>\n      <th>BbAHh</th>\n      <th>BbMxAHH</th>\n      <th>BbAvAHH</th>\n      <th>BbMxAHA</th>\n      <th>BbAvAHA</th>\n      <th>PSCH</th>\n      <th>PSCD</th>\n      <th>PSCA</th>\n    </tr>\n  </thead>\n  <tbody>\n    <tr>\n      <th>0</th>\n      <td>I1</td>\n      <td>18.08.2018</td>\n      <td>Chievo Verona</td>\n      <td>Juventus</td>\n      <td>2</td>\n      <td>3</td>\n      <td>A</td>\n      <td>1</td>\n      <td>1</td>\n      <td>D</td>\n      <td>...</td>\n      <td>Þub.13</td>\n      <td>19</td>\n      <td>2</td>\n      <td>Oca.68</td>\n      <td>Oca.64</td>\n      <td>Þub.38</td>\n      <td>Þub.29</td>\n      <td>18.84</td>\n      <td>Haz.42</td>\n      <td>Oca.22</td>\n    </tr>\n    <tr>\n      <th>1</th>\n      <td>I1</td>\n      <td>18.08.2018</td>\n      <td>Lazio</td>\n      <td>Napoli</td>\n      <td>1</td>\n      <td>2</td>\n      <td>A</td>\n      <td>1</td>\n      <td>1</td>\n      <td>D</td>\n      <td>...</td>\n      <td>Þub.17</td>\n      <td>20</td>\n      <td>0</td>\n      <td>2.Ara</td>\n      <td>2.Tem</td>\n      <td>Oca.83</td>\n      <td>Oca.79</td>\n      <td>Þub.78</td>\n      <td>Mar.57</td>\n      <td>Þub.59</td>\n    </tr>\n    <tr>\n      <th>2</th>\n      <td>I1</td>\n      <td>19.08.2018</td>\n      <td>Bologna</td>\n      <td>Spal</td>\n      <td>0</td>\n      <td>1</td>\n      <td>A</td>\n      <td>0</td>\n      <td>0</td>\n      <td>D</td>\n      <td>...</td>\n      <td>Oca.58</td>\n      <td>19</td>\n      <td>-0.25</td>\n      <td>Oca.97</td>\n      <td>Oca.92</td>\n      <td>Oca.99</td>\n      <td>Oca.94</td>\n      <td>Þub.31</td>\n      <td>Mar.18</td>\n      <td>Mar.59</td>\n    </tr>\n  </tbody>\n</table>\n<p>3 rows × 61 columns</p>\n</div>"
     },
     "metadata": {},
     "execution_count": 14
    }
   ],
   "source": [
    "it = pd.read_csv(\"./Group F Data/IT.csv\", sep=\";\", encoding = 'unicode_escape')\n",
    "it.head(3)"
   ]
  },
  {
   "cell_type": "code",
   "execution_count": 15,
   "metadata": {},
   "outputs": [
    {
     "output_type": "execute_result",
     "data": {
      "text/plain": [
       "  Div        Date    HomeTeam         AwayTeam  FTHG  FTAG FTR  HTHG  HTAG  \\\n",
       "0  N1  10.08.2018  PEC Zwolle    SC Heerenveen     2     3   A     1     3   \n",
       "1  N1  11.08.2018        Ajax  Heracles Almelo     1     1   D     0     0   \n",
       "2  N1  11.08.2018   Excelsior  Fortuna Sittard     1     1   D     1     0   \n",
       "\n",
       "  HTR  ...  BbAv<2.5  BbAH  BbAHh  BbMxAHH  BbAvAHH  BbMxAHA  BbAvAHA    PSCH  \\\n",
       "0   A  ...    Þub.22    16  -0.25   Þub.26   Þub.17   Oca.84   Oca.71  Þub.93   \n",
       "1   D  ...    Mar.55    20   -2.5    2.Haz   Oca.99   Oca.91   Oca.84  Oca.13   \n",
       "2   H  ...    Þub.14    19  -0.25   Oca.88   Oca.84    2.Haz        2  Þub.35   \n",
       "\n",
       "     PSCD    PSCA  \n",
       "0  Mar.58  Þub.43  \n",
       "1  Eyl.75   20.82  \n",
       "2   3.May   3.Kas  \n",
       "\n",
       "[3 rows x 61 columns]"
      ],
      "text/html": "<div>\n<style scoped>\n    .dataframe tbody tr th:only-of-type {\n        vertical-align: middle;\n    }\n\n    .dataframe tbody tr th {\n        vertical-align: top;\n    }\n\n    .dataframe thead th {\n        text-align: right;\n    }\n</style>\n<table border=\"1\" class=\"dataframe\">\n  <thead>\n    <tr style=\"text-align: right;\">\n      <th></th>\n      <th>Div</th>\n      <th>Date</th>\n      <th>HomeTeam</th>\n      <th>AwayTeam</th>\n      <th>FTHG</th>\n      <th>FTAG</th>\n      <th>FTR</th>\n      <th>HTHG</th>\n      <th>HTAG</th>\n      <th>HTR</th>\n      <th>...</th>\n      <th>BbAv&lt;2.5</th>\n      <th>BbAH</th>\n      <th>BbAHh</th>\n      <th>BbMxAHH</th>\n      <th>BbAvAHH</th>\n      <th>BbMxAHA</th>\n      <th>BbAvAHA</th>\n      <th>PSCH</th>\n      <th>PSCD</th>\n      <th>PSCA</th>\n    </tr>\n  </thead>\n  <tbody>\n    <tr>\n      <th>0</th>\n      <td>N1</td>\n      <td>10.08.2018</td>\n      <td>PEC Zwolle</td>\n      <td>SC Heerenveen</td>\n      <td>2</td>\n      <td>3</td>\n      <td>A</td>\n      <td>1</td>\n      <td>3</td>\n      <td>A</td>\n      <td>...</td>\n      <td>Þub.22</td>\n      <td>16</td>\n      <td>-0.25</td>\n      <td>Þub.26</td>\n      <td>Þub.17</td>\n      <td>Oca.84</td>\n      <td>Oca.71</td>\n      <td>Þub.93</td>\n      <td>Mar.58</td>\n      <td>Þub.43</td>\n    </tr>\n    <tr>\n      <th>1</th>\n      <td>N1</td>\n      <td>11.08.2018</td>\n      <td>Ajax</td>\n      <td>Heracles Almelo</td>\n      <td>1</td>\n      <td>1</td>\n      <td>D</td>\n      <td>0</td>\n      <td>0</td>\n      <td>D</td>\n      <td>...</td>\n      <td>Mar.55</td>\n      <td>20</td>\n      <td>-2.5</td>\n      <td>2.Haz</td>\n      <td>Oca.99</td>\n      <td>Oca.91</td>\n      <td>Oca.84</td>\n      <td>Oca.13</td>\n      <td>Eyl.75</td>\n      <td>20.82</td>\n    </tr>\n    <tr>\n      <th>2</th>\n      <td>N1</td>\n      <td>11.08.2018</td>\n      <td>Excelsior</td>\n      <td>Fortuna Sittard</td>\n      <td>1</td>\n      <td>1</td>\n      <td>D</td>\n      <td>1</td>\n      <td>0</td>\n      <td>H</td>\n      <td>...</td>\n      <td>Þub.14</td>\n      <td>19</td>\n      <td>-0.25</td>\n      <td>Oca.88</td>\n      <td>Oca.84</td>\n      <td>2.Haz</td>\n      <td>2</td>\n      <td>Þub.35</td>\n      <td>3.May</td>\n      <td>3.Kas</td>\n    </tr>\n  </tbody>\n</table>\n<p>3 rows × 61 columns</p>\n</div>"
     },
     "metadata": {},
     "execution_count": 15
    }
   ],
   "source": [
    "ne = pd.read_csv(\"./Group F Data/NE.csv\", sep=\";\", encoding = 'unicode_escape')\n",
    "ne.head(3)"
   ]
  },
  {
   "cell_type": "code",
   "execution_count": 16,
   "metadata": {},
   "outputs": [
    {
     "output_type": "execute_result",
     "data": {
      "text/plain": [
       "  Div        Date            HomeTeam           AwayTeam  FTHG  FTAG FTR  \\\n",
       "0  P1  10.08.2018          SL Benfica  Vitória Guimarães     3     2   H   \n",
       "1  P1  11.08.2018            FC Porto          GD Chaves     5     0   H   \n",
       "2  P1  11.08.2018  Vitória de Setúbal            CD Aves     2     0   H   \n",
       "\n",
       "   HTHG  HTAG HTR  ...  BbAv<2.5  BbAH  BbAHh  BbMxAHH  BbAvAHH  BbMxAHA  \\\n",
       "0     3     0   H  ...    Þub.44    20  -1.75    2.May   Oca.98    1.Eyl   \n",
       "1     3     0   H  ...    Þub.49    21     -2    2.Oca   Oca.94   Oca.93   \n",
       "2     1     0   H  ...    Oca.56    20  -0.25    2.Mar   Oca.98   Oca.91   \n",
       "\n",
       "   BbAvAHA    PSCH    PSCD    PSCA  \n",
       "0   Oca.85  Oca.28  May.69   14.77  \n",
       "1   Oca.88  Oca.18   8.Aðu   19.26  \n",
       "2   Oca.85  Þub.41  Mar.14  Mar.42  \n",
       "\n",
       "[3 rows x 61 columns]"
      ],
      "text/html": "<div>\n<style scoped>\n    .dataframe tbody tr th:only-of-type {\n        vertical-align: middle;\n    }\n\n    .dataframe tbody tr th {\n        vertical-align: top;\n    }\n\n    .dataframe thead th {\n        text-align: right;\n    }\n</style>\n<table border=\"1\" class=\"dataframe\">\n  <thead>\n    <tr style=\"text-align: right;\">\n      <th></th>\n      <th>Div</th>\n      <th>Date</th>\n      <th>HomeTeam</th>\n      <th>AwayTeam</th>\n      <th>FTHG</th>\n      <th>FTAG</th>\n      <th>FTR</th>\n      <th>HTHG</th>\n      <th>HTAG</th>\n      <th>HTR</th>\n      <th>...</th>\n      <th>BbAv&lt;2.5</th>\n      <th>BbAH</th>\n      <th>BbAHh</th>\n      <th>BbMxAHH</th>\n      <th>BbAvAHH</th>\n      <th>BbMxAHA</th>\n      <th>BbAvAHA</th>\n      <th>PSCH</th>\n      <th>PSCD</th>\n      <th>PSCA</th>\n    </tr>\n  </thead>\n  <tbody>\n    <tr>\n      <th>0</th>\n      <td>P1</td>\n      <td>10.08.2018</td>\n      <td>SL Benfica</td>\n      <td>Vitória Guimarães</td>\n      <td>3</td>\n      <td>2</td>\n      <td>H</td>\n      <td>3</td>\n      <td>0</td>\n      <td>H</td>\n      <td>...</td>\n      <td>Þub.44</td>\n      <td>20</td>\n      <td>-1.75</td>\n      <td>2.May</td>\n      <td>Oca.98</td>\n      <td>1.Eyl</td>\n      <td>Oca.85</td>\n      <td>Oca.28</td>\n      <td>May.69</td>\n      <td>14.77</td>\n    </tr>\n    <tr>\n      <th>1</th>\n      <td>P1</td>\n      <td>11.08.2018</td>\n      <td>FC Porto</td>\n      <td>GD Chaves</td>\n      <td>5</td>\n      <td>0</td>\n      <td>H</td>\n      <td>3</td>\n      <td>0</td>\n      <td>H</td>\n      <td>...</td>\n      <td>Þub.49</td>\n      <td>21</td>\n      <td>-2</td>\n      <td>2.Oca</td>\n      <td>Oca.94</td>\n      <td>Oca.93</td>\n      <td>Oca.88</td>\n      <td>Oca.18</td>\n      <td>8.Aðu</td>\n      <td>19.26</td>\n    </tr>\n    <tr>\n      <th>2</th>\n      <td>P1</td>\n      <td>11.08.2018</td>\n      <td>Vitória de Setúbal</td>\n      <td>CD Aves</td>\n      <td>2</td>\n      <td>0</td>\n      <td>H</td>\n      <td>1</td>\n      <td>0</td>\n      <td>H</td>\n      <td>...</td>\n      <td>Oca.56</td>\n      <td>20</td>\n      <td>-0.25</td>\n      <td>2.Mar</td>\n      <td>Oca.98</td>\n      <td>Oca.91</td>\n      <td>Oca.85</td>\n      <td>Þub.41</td>\n      <td>Mar.14</td>\n      <td>Mar.42</td>\n    </tr>\n  </tbody>\n</table>\n<p>3 rows × 61 columns</p>\n</div>"
     },
     "metadata": {},
     "execution_count": 16
    }
   ],
   "source": [
    "po = pd.read_csv(\"./Group F Data/PO.csv\", sep=\";\", encoding = 'unicode_escape')\n",
    "po.head(3)"
   ]
  },
  {
   "cell_type": "code",
   "execution_count": 17,
   "metadata": {},
   "outputs": [
    {
     "output_type": "execute_result",
     "data": {
      "text/plain": [
       "  Div        Date         HomeTeam        AwayTeam  FTHG  FTAG FTR  HTHG  \\\n",
       "0  T1  10.08.2018   MKE Ankaragücü  Galatasaray SK     1     3   A     1   \n",
       "1  T1  11.08.2018    Fenerbahçe SK       Bursaspor     2     1   H     2   \n",
       "2  T1  11.08.2018  Çaykur Rizespor    Kasimpaþa SK     2     3   A     1   \n",
       "\n",
       "   HTAG HTR  ...  BbAv<2.5  BbAH  BbAHh  BbMxAHH  BbAvAHH  BbMxAHA  BbAvAHA  \\\n",
       "0     2   A  ...     2.Þub    18    1.0   Oca.69   Oca.64   Þub.34   Þub.23   \n",
       "1     1   H  ...    Þub.27    18   -1.5   Þub.21    2.Kas   Oca.78   Oca.72   \n",
       "2     0   H  ...         2    17    0.0   Oca.77   Oca.72   Þub.19    2.Kas   \n",
       "\n",
       "     PSCH    PSCD    PSCA  \n",
       "0  Nis.39  Mar.89  Oca.83  \n",
       "1  Oca.35  May.46   9.Kas  \n",
       "2   2.Mar  Mar.85  Mar.56  \n",
       "\n",
       "[3 rows x 61 columns]"
      ],
      "text/html": "<div>\n<style scoped>\n    .dataframe tbody tr th:only-of-type {\n        vertical-align: middle;\n    }\n\n    .dataframe tbody tr th {\n        vertical-align: top;\n    }\n\n    .dataframe thead th {\n        text-align: right;\n    }\n</style>\n<table border=\"1\" class=\"dataframe\">\n  <thead>\n    <tr style=\"text-align: right;\">\n      <th></th>\n      <th>Div</th>\n      <th>Date</th>\n      <th>HomeTeam</th>\n      <th>AwayTeam</th>\n      <th>FTHG</th>\n      <th>FTAG</th>\n      <th>FTR</th>\n      <th>HTHG</th>\n      <th>HTAG</th>\n      <th>HTR</th>\n      <th>...</th>\n      <th>BbAv&lt;2.5</th>\n      <th>BbAH</th>\n      <th>BbAHh</th>\n      <th>BbMxAHH</th>\n      <th>BbAvAHH</th>\n      <th>BbMxAHA</th>\n      <th>BbAvAHA</th>\n      <th>PSCH</th>\n      <th>PSCD</th>\n      <th>PSCA</th>\n    </tr>\n  </thead>\n  <tbody>\n    <tr>\n      <th>0</th>\n      <td>T1</td>\n      <td>10.08.2018</td>\n      <td>MKE Ankaragücü</td>\n      <td>Galatasaray SK</td>\n      <td>1</td>\n      <td>3</td>\n      <td>A</td>\n      <td>1</td>\n      <td>2</td>\n      <td>A</td>\n      <td>...</td>\n      <td>2.Þub</td>\n      <td>18</td>\n      <td>1.0</td>\n      <td>Oca.69</td>\n      <td>Oca.64</td>\n      <td>Þub.34</td>\n      <td>Þub.23</td>\n      <td>Nis.39</td>\n      <td>Mar.89</td>\n      <td>Oca.83</td>\n    </tr>\n    <tr>\n      <th>1</th>\n      <td>T1</td>\n      <td>11.08.2018</td>\n      <td>Fenerbahçe SK</td>\n      <td>Bursaspor</td>\n      <td>2</td>\n      <td>1</td>\n      <td>H</td>\n      <td>2</td>\n      <td>1</td>\n      <td>H</td>\n      <td>...</td>\n      <td>Þub.27</td>\n      <td>18</td>\n      <td>-1.5</td>\n      <td>Þub.21</td>\n      <td>2.Kas</td>\n      <td>Oca.78</td>\n      <td>Oca.72</td>\n      <td>Oca.35</td>\n      <td>May.46</td>\n      <td>9.Kas</td>\n    </tr>\n    <tr>\n      <th>2</th>\n      <td>T1</td>\n      <td>11.08.2018</td>\n      <td>Çaykur Rizespor</td>\n      <td>Kasimpaþa SK</td>\n      <td>2</td>\n      <td>3</td>\n      <td>A</td>\n      <td>1</td>\n      <td>0</td>\n      <td>H</td>\n      <td>...</td>\n      <td>2</td>\n      <td>17</td>\n      <td>0.0</td>\n      <td>Oca.77</td>\n      <td>Oca.72</td>\n      <td>Þub.19</td>\n      <td>2.Kas</td>\n      <td>2.Mar</td>\n      <td>Mar.85</td>\n      <td>Mar.56</td>\n    </tr>\n  </tbody>\n</table>\n<p>3 rows × 61 columns</p>\n</div>"
     },
     "metadata": {},
     "execution_count": 17
    }
   ],
   "source": [
    "tr = pd.read_csv(\"./Group F Data/TR.csv\", sep=\";\", encoding = 'unicode_escape')\n",
    "tr.head(3)"
   ]
  },
  {
   "cell_type": "code",
   "execution_count": 18,
   "metadata": {},
   "outputs": [
    {
     "output_type": "execute_result",
     "data": {
      "text/plain": [
       "  Div        Date           HomeTeam        AwayTeam  FTHG  FTAG FTR  HTHG  \\\n",
       "0  E0  10.08.2018  Manchester United  Leicester City     2     1   H     1   \n",
       "1  E0  11.08.2018        Bournemouth    Cardiff City     2     0   H     1   \n",
       "2  E0  11.08.2018             Fulham  Crystal Palace     0     2   A     0   \n",
       "\n",
       "   HTAG HTR  ... BbAv<2.5  BbAH  BbAHh  BbMxAHH  BbAvAHH  BbMxAHA  BbAvAHA  \\\n",
       "0     0   H  ...   Oca.79    17  -0.75   Oca.75    1.Tem   Þub.29   Þub.21   \n",
       "1     0   H  ...   Oca.83    20  -0.75    2.Þub   Þub.13    1.Aðu   Oca.75   \n",
       "2     1   A  ...   Oca.87    22  -0.25   Þub.18    2.Kas   Oca.81   Oca.77   \n",
       "\n",
       "     PSCH    PSCD    PSCA  \n",
       "0  Oca.55   4.Tem  Tem.69  \n",
       "1  Oca.88  Mar.61   4.Tem  \n",
       "2  Þub.62  Mar.38   2.Eyl  \n",
       "\n",
       "[3 rows x 62 columns]"
      ],
      "text/html": "<div>\n<style scoped>\n    .dataframe tbody tr th:only-of-type {\n        vertical-align: middle;\n    }\n\n    .dataframe tbody tr th {\n        vertical-align: top;\n    }\n\n    .dataframe thead th {\n        text-align: right;\n    }\n</style>\n<table border=\"1\" class=\"dataframe\">\n  <thead>\n    <tr style=\"text-align: right;\">\n      <th></th>\n      <th>Div</th>\n      <th>Date</th>\n      <th>HomeTeam</th>\n      <th>AwayTeam</th>\n      <th>FTHG</th>\n      <th>FTAG</th>\n      <th>FTR</th>\n      <th>HTHG</th>\n      <th>HTAG</th>\n      <th>HTR</th>\n      <th>...</th>\n      <th>BbAv&lt;2.5</th>\n      <th>BbAH</th>\n      <th>BbAHh</th>\n      <th>BbMxAHH</th>\n      <th>BbAvAHH</th>\n      <th>BbMxAHA</th>\n      <th>BbAvAHA</th>\n      <th>PSCH</th>\n      <th>PSCD</th>\n      <th>PSCA</th>\n    </tr>\n  </thead>\n  <tbody>\n    <tr>\n      <th>0</th>\n      <td>E0</td>\n      <td>10.08.2018</td>\n      <td>Manchester United</td>\n      <td>Leicester City</td>\n      <td>2</td>\n      <td>1</td>\n      <td>H</td>\n      <td>1</td>\n      <td>0</td>\n      <td>H</td>\n      <td>...</td>\n      <td>Oca.79</td>\n      <td>17</td>\n      <td>-0.75</td>\n      <td>Oca.75</td>\n      <td>1.Tem</td>\n      <td>Þub.29</td>\n      <td>Þub.21</td>\n      <td>Oca.55</td>\n      <td>4.Tem</td>\n      <td>Tem.69</td>\n    </tr>\n    <tr>\n      <th>1</th>\n      <td>E0</td>\n      <td>11.08.2018</td>\n      <td>Bournemouth</td>\n      <td>Cardiff City</td>\n      <td>2</td>\n      <td>0</td>\n      <td>H</td>\n      <td>1</td>\n      <td>0</td>\n      <td>H</td>\n      <td>...</td>\n      <td>Oca.83</td>\n      <td>20</td>\n      <td>-0.75</td>\n      <td>2.Þub</td>\n      <td>Þub.13</td>\n      <td>1.Aðu</td>\n      <td>Oca.75</td>\n      <td>Oca.88</td>\n      <td>Mar.61</td>\n      <td>4.Tem</td>\n    </tr>\n    <tr>\n      <th>2</th>\n      <td>E0</td>\n      <td>11.08.2018</td>\n      <td>Fulham</td>\n      <td>Crystal Palace</td>\n      <td>0</td>\n      <td>2</td>\n      <td>A</td>\n      <td>0</td>\n      <td>1</td>\n      <td>A</td>\n      <td>...</td>\n      <td>Oca.87</td>\n      <td>22</td>\n      <td>-0.25</td>\n      <td>Þub.18</td>\n      <td>2.Kas</td>\n      <td>Oca.81</td>\n      <td>Oca.77</td>\n      <td>Þub.62</td>\n      <td>Mar.38</td>\n      <td>2.Eyl</td>\n    </tr>\n  </tbody>\n</table>\n<p>3 rows × 62 columns</p>\n</div>"
     },
     "metadata": {},
     "execution_count": 18
    }
   ],
   "source": [
    "uk = pd.read_csv(\"./Group F Data/UK.csv\", sep=\";\", encoding = 'unicode_escape')\n",
    "uk.head(3)"
   ]
  },
  {
   "source": [
    "#NOTE"
   ],
   "cell_type": "markdown",
   "metadata": {}
  },
  {
   "source": [
    "Data description can be found in description.txt"
   ],
   "cell_type": "markdown",
   "metadata": {}
  },
  {
   "cell_type": "code",
   "execution_count": 1,
   "metadata": {},
   "outputs": [
    {
     "output_type": "stream",
     "name": "stderr",
     "text": [
      "[NbConvertApp] Converting notebook appendix.ipynb to html\n[NbConvertApp] Writing 623073 bytes to appendix.html\n"
     ]
    }
   ],
   "source": [
    "!jupyter nbconvert --to html appendix.ipynb"
   ]
  },
  {
   "cell_type": "code",
   "execution_count": null,
   "metadata": {},
   "outputs": [],
   "source": []
  }
 ]
}