{
 "metadata": {
  "language_info": {
   "codemirror_mode": {
    "name": "ipython",
    "version": 3
   },
   "file_extension": ".py",
   "mimetype": "text/x-python",
   "name": "python",
   "nbconvert_exporter": "python",
   "pygments_lexer": "ipython3",
   "version": "3.9.0-final"
  },
  "orig_nbformat": 2,
  "kernelspec": {
   "name": "python3",
   "display_name": "Python 3.9.0 64-bit",
   "metadata": {
    "interpreter": {
     "hash": "ce0eb3b9e04d4bbb4a196bdde8fa672c3d2077ce83d147f742d60a9b2cb65a02"
    }
   }
  }
 },
 "nbformat": 4,
 "nbformat_minor": 2,
 "cells": [
  {
   "cell_type": "code",
   "execution_count": 2,
   "metadata": {},
   "outputs": [],
   "source": [
    "import pandas as pd"
   ]
  },
  {
   "cell_type": "code",
   "execution_count": 5,
   "metadata": {},
   "outputs": [
    {
     "output_type": "execute_result",
     "data": {
      "text/plain": [
       "   sofifa_id                                         player_url  \\\n",
       "0      20801  https://sofifa.com/player/20801/c-ronaldo-dos-...   \n",
       "1     158023  https://sofifa.com/player/158023/lionel-messi/...   \n",
       "2     190871  https://sofifa.com/player/190871/neymar-da-sil...   \n",
       "\n",
       "          short_name                            long_name  age         dob  \\\n",
       "0  Cristiano Ronaldo  Cristiano Ronaldo dos Santos Aveiro   32  1985-02-05   \n",
       "1           L. Messi       Lionel Andrés Messi Cuccittini   30  1987-06-24   \n",
       "2             Neymar        Neymar da Silva Santos Junior   25  1992-02-05   \n",
       "\n",
       "   height_cm  weight_kg nationality                 club  ...   lwb   ldm  \\\n",
       "0        185         80    Portugal          Real Madrid  ...  66+3  62+3   \n",
       "1        170         72   Argentina         FC Barcelona  ...  62+3  59+3   \n",
       "2        175         68      Brazil  Paris Saint-Germain  ...  64+3  59+3   \n",
       "\n",
       "    cdm   rdm   rwb    lb   lcb    cb   rcb    rb  \n",
       "0  62+3  62+3  66+3  62+3  53+3  53+3  53+3  62+3  \n",
       "1  59+3  59+3  62+3  58+3  46+3  46+3  46+3  58+3  \n",
       "2  59+3  59+3  64+3  60+3  47+3  47+3  47+3  60+3  \n",
       "\n",
       "[3 rows x 104 columns]"
      ],
      "text/html": "<div>\n<style scoped>\n    .dataframe tbody tr th:only-of-type {\n        vertical-align: middle;\n    }\n\n    .dataframe tbody tr th {\n        vertical-align: top;\n    }\n\n    .dataframe thead th {\n        text-align: right;\n    }\n</style>\n<table border=\"1\" class=\"dataframe\">\n  <thead>\n    <tr style=\"text-align: right;\">\n      <th></th>\n      <th>sofifa_id</th>\n      <th>player_url</th>\n      <th>short_name</th>\n      <th>long_name</th>\n      <th>age</th>\n      <th>dob</th>\n      <th>height_cm</th>\n      <th>weight_kg</th>\n      <th>nationality</th>\n      <th>club</th>\n      <th>...</th>\n      <th>lwb</th>\n      <th>ldm</th>\n      <th>cdm</th>\n      <th>rdm</th>\n      <th>rwb</th>\n      <th>lb</th>\n      <th>lcb</th>\n      <th>cb</th>\n      <th>rcb</th>\n      <th>rb</th>\n    </tr>\n  </thead>\n  <tbody>\n    <tr>\n      <th>0</th>\n      <td>20801</td>\n      <td>https://sofifa.com/player/20801/c-ronaldo-dos-...</td>\n      <td>Cristiano Ronaldo</td>\n      <td>Cristiano Ronaldo dos Santos Aveiro</td>\n      <td>32</td>\n      <td>1985-02-05</td>\n      <td>185</td>\n      <td>80</td>\n      <td>Portugal</td>\n      <td>Real Madrid</td>\n      <td>...</td>\n      <td>66+3</td>\n      <td>62+3</td>\n      <td>62+3</td>\n      <td>62+3</td>\n      <td>66+3</td>\n      <td>62+3</td>\n      <td>53+3</td>\n      <td>53+3</td>\n      <td>53+3</td>\n      <td>62+3</td>\n    </tr>\n    <tr>\n      <th>1</th>\n      <td>158023</td>\n      <td>https://sofifa.com/player/158023/lionel-messi/...</td>\n      <td>L. Messi</td>\n      <td>Lionel Andrés Messi Cuccittini</td>\n      <td>30</td>\n      <td>1987-06-24</td>\n      <td>170</td>\n      <td>72</td>\n      <td>Argentina</td>\n      <td>FC Barcelona</td>\n      <td>...</td>\n      <td>62+3</td>\n      <td>59+3</td>\n      <td>59+3</td>\n      <td>59+3</td>\n      <td>62+3</td>\n      <td>58+3</td>\n      <td>46+3</td>\n      <td>46+3</td>\n      <td>46+3</td>\n      <td>58+3</td>\n    </tr>\n    <tr>\n      <th>2</th>\n      <td>190871</td>\n      <td>https://sofifa.com/player/190871/neymar-da-sil...</td>\n      <td>Neymar</td>\n      <td>Neymar da Silva Santos Junior</td>\n      <td>25</td>\n      <td>1992-02-05</td>\n      <td>175</td>\n      <td>68</td>\n      <td>Brazil</td>\n      <td>Paris Saint-Germain</td>\n      <td>...</td>\n      <td>64+3</td>\n      <td>59+3</td>\n      <td>59+3</td>\n      <td>59+3</td>\n      <td>64+3</td>\n      <td>60+3</td>\n      <td>47+3</td>\n      <td>47+3</td>\n      <td>47+3</td>\n      <td>60+3</td>\n    </tr>\n  </tbody>\n</table>\n<p>3 rows × 104 columns</p>\n</div>"
     },
     "metadata": {},
     "execution_count": 5
    }
   ],
   "source": [
    "p18 = pd.read_csv(\"./Group F Data/players_18.csv\")\n",
    "p18.head(3)"
   ]
  },
  {
   "cell_type": "code",
   "execution_count": 6,
   "metadata": {},
   "outputs": [
    {
     "output_type": "execute_result",
     "data": {
      "text/plain": [
       "   sofifa_id                                         player_url  \\\n",
       "0      20801  https://sofifa.com/player/20801/c-ronaldo-dos-...   \n",
       "1     158023  https://sofifa.com/player/158023/lionel-messi/...   \n",
       "2     190871  https://sofifa.com/player/190871/neymar-da-sil...   \n",
       "\n",
       "          short_name                            long_name  age         dob  \\\n",
       "0  Cristiano Ronaldo  Cristiano Ronaldo dos Santos Aveiro   33  1985-02-05   \n",
       "1           L. Messi       Lionel Andrés Messi Cuccittini   31  1987-06-24   \n",
       "2          Neymar Jr        Neymar da Silva Santos Junior   26  1992-02-05   \n",
       "\n",
       "   height_cm  weight_kg nationality                 club  ...   lwb   ldm  \\\n",
       "0        187         83    Portugal             Juventus  ...  65+3  61+3   \n",
       "1        170         72   Argentina         FC Barcelona  ...  63+2  61+2   \n",
       "2        175         68      Brazil  Paris Saint-Germain  ...  65+3  60+3   \n",
       "\n",
       "    cdm   rdm   rwb    lb   lcb    cb   rcb    rb  \n",
       "0  61+3  61+3  65+3  61+3  53+3  53+3  53+3  61+3  \n",
       "1  61+2  61+2  63+2  58+2  47+2  47+2  47+2  58+2  \n",
       "2  60+3  60+3  65+3  60+3  47+3  47+3  47+3  60+3  \n",
       "\n",
       "[3 rows x 104 columns]"
      ],
      "text/html": "<div>\n<style scoped>\n    .dataframe tbody tr th:only-of-type {\n        vertical-align: middle;\n    }\n\n    .dataframe tbody tr th {\n        vertical-align: top;\n    }\n\n    .dataframe thead th {\n        text-align: right;\n    }\n</style>\n<table border=\"1\" class=\"dataframe\">\n  <thead>\n    <tr style=\"text-align: right;\">\n      <th></th>\n      <th>sofifa_id</th>\n      <th>player_url</th>\n      <th>short_name</th>\n      <th>long_name</th>\n      <th>age</th>\n      <th>dob</th>\n      <th>height_cm</th>\n      <th>weight_kg</th>\n      <th>nationality</th>\n      <th>club</th>\n      <th>...</th>\n      <th>lwb</th>\n      <th>ldm</th>\n      <th>cdm</th>\n      <th>rdm</th>\n      <th>rwb</th>\n      <th>lb</th>\n      <th>lcb</th>\n      <th>cb</th>\n      <th>rcb</th>\n      <th>rb</th>\n    </tr>\n  </thead>\n  <tbody>\n    <tr>\n      <th>0</th>\n      <td>20801</td>\n      <td>https://sofifa.com/player/20801/c-ronaldo-dos-...</td>\n      <td>Cristiano Ronaldo</td>\n      <td>Cristiano Ronaldo dos Santos Aveiro</td>\n      <td>33</td>\n      <td>1985-02-05</td>\n      <td>187</td>\n      <td>83</td>\n      <td>Portugal</td>\n      <td>Juventus</td>\n      <td>...</td>\n      <td>65+3</td>\n      <td>61+3</td>\n      <td>61+3</td>\n      <td>61+3</td>\n      <td>65+3</td>\n      <td>61+3</td>\n      <td>53+3</td>\n      <td>53+3</td>\n      <td>53+3</td>\n      <td>61+3</td>\n    </tr>\n    <tr>\n      <th>1</th>\n      <td>158023</td>\n      <td>https://sofifa.com/player/158023/lionel-messi/...</td>\n      <td>L. Messi</td>\n      <td>Lionel Andrés Messi Cuccittini</td>\n      <td>31</td>\n      <td>1987-06-24</td>\n      <td>170</td>\n      <td>72</td>\n      <td>Argentina</td>\n      <td>FC Barcelona</td>\n      <td>...</td>\n      <td>63+2</td>\n      <td>61+2</td>\n      <td>61+2</td>\n      <td>61+2</td>\n      <td>63+2</td>\n      <td>58+2</td>\n      <td>47+2</td>\n      <td>47+2</td>\n      <td>47+2</td>\n      <td>58+2</td>\n    </tr>\n    <tr>\n      <th>2</th>\n      <td>190871</td>\n      <td>https://sofifa.com/player/190871/neymar-da-sil...</td>\n      <td>Neymar Jr</td>\n      <td>Neymar da Silva Santos Junior</td>\n      <td>26</td>\n      <td>1992-02-05</td>\n      <td>175</td>\n      <td>68</td>\n      <td>Brazil</td>\n      <td>Paris Saint-Germain</td>\n      <td>...</td>\n      <td>65+3</td>\n      <td>60+3</td>\n      <td>60+3</td>\n      <td>60+3</td>\n      <td>65+3</td>\n      <td>60+3</td>\n      <td>47+3</td>\n      <td>47+3</td>\n      <td>47+3</td>\n      <td>60+3</td>\n    </tr>\n  </tbody>\n</table>\n<p>3 rows × 104 columns</p>\n</div>"
     },
     "metadata": {},
     "execution_count": 6
    }
   ],
   "source": [
    "p19 = pd.read_csv(\"./Group F Data/players_19.csv\")\n",
    "p19.head(3)"
   ]
  },
  {
   "cell_type": "code",
   "execution_count": 6,
   "metadata": {},
   "outputs": [
    {
     "output_type": "stream",
     "name": "stdout",
     "text": [
      "(2984, 22)\n"
     ]
    },
    {
     "output_type": "execute_result",
     "data": {
      "text/plain": [
       "  Div        Date           HomeTeam              AwayTeam  FTHG  FTAG FTR  \\\n",
       "0  B1  27.07.2018  Standard de Liège              KAA Gent     3     2   H   \n",
       "1  B1  28.07.2018        KV Kortrijk        RSC Anderlecht     1     4   A   \n",
       "2  B1  28.07.2018        KV Oostende  Royal Excel Mouscron     2     1   H   \n",
       "\n",
       "   HTHG  HTAG HTR  ...  HST  AST    HF    AF  HC  AC  HY  AY  HR   AR  \n",
       "0     1     1   D  ...    8    5  22.0  18.0   2   5   2   3   0  0.0  \n",
       "1     0     2   A  ...    1    6  22.0  19.0   6   2   2   1   0  0.0  \n",
       "2     0     1   A  ...    5    2  22.0  21.0   4   0   4   5   0  2.0  \n",
       "\n",
       "[3 rows x 22 columns]"
      ],
      "text/html": "<div>\n<style scoped>\n    .dataframe tbody tr th:only-of-type {\n        vertical-align: middle;\n    }\n\n    .dataframe tbody tr th {\n        vertical-align: top;\n    }\n\n    .dataframe thead th {\n        text-align: right;\n    }\n</style>\n<table border=\"1\" class=\"dataframe\">\n  <thead>\n    <tr style=\"text-align: right;\">\n      <th></th>\n      <th>Div</th>\n      <th>Date</th>\n      <th>HomeTeam</th>\n      <th>AwayTeam</th>\n      <th>FTHG</th>\n      <th>FTAG</th>\n      <th>FTR</th>\n      <th>HTHG</th>\n      <th>HTAG</th>\n      <th>HTR</th>\n      <th>...</th>\n      <th>HST</th>\n      <th>AST</th>\n      <th>HF</th>\n      <th>AF</th>\n      <th>HC</th>\n      <th>AC</th>\n      <th>HY</th>\n      <th>AY</th>\n      <th>HR</th>\n      <th>AR</th>\n    </tr>\n  </thead>\n  <tbody>\n    <tr>\n      <th>0</th>\n      <td>B1</td>\n      <td>27.07.2018</td>\n      <td>Standard de Liège</td>\n      <td>KAA Gent</td>\n      <td>3</td>\n      <td>2</td>\n      <td>H</td>\n      <td>1</td>\n      <td>1</td>\n      <td>D</td>\n      <td>...</td>\n      <td>8</td>\n      <td>5</td>\n      <td>22.0</td>\n      <td>18.0</td>\n      <td>2</td>\n      <td>5</td>\n      <td>2</td>\n      <td>3</td>\n      <td>0</td>\n      <td>0.0</td>\n    </tr>\n    <tr>\n      <th>1</th>\n      <td>B1</td>\n      <td>28.07.2018</td>\n      <td>KV Kortrijk</td>\n      <td>RSC Anderlecht</td>\n      <td>1</td>\n      <td>4</td>\n      <td>A</td>\n      <td>0</td>\n      <td>2</td>\n      <td>A</td>\n      <td>...</td>\n      <td>1</td>\n      <td>6</td>\n      <td>22.0</td>\n      <td>19.0</td>\n      <td>6</td>\n      <td>2</td>\n      <td>2</td>\n      <td>1</td>\n      <td>0</td>\n      <td>0.0</td>\n    </tr>\n    <tr>\n      <th>2</th>\n      <td>B1</td>\n      <td>28.07.2018</td>\n      <td>KV Oostende</td>\n      <td>Royal Excel Mouscron</td>\n      <td>2</td>\n      <td>1</td>\n      <td>H</td>\n      <td>0</td>\n      <td>1</td>\n      <td>A</td>\n      <td>...</td>\n      <td>5</td>\n      <td>2</td>\n      <td>22.0</td>\n      <td>21.0</td>\n      <td>4</td>\n      <td>0</td>\n      <td>4</td>\n      <td>5</td>\n      <td>0</td>\n      <td>2.0</td>\n    </tr>\n  </tbody>\n</table>\n<p>3 rows × 22 columns</p>\n</div>"
     },
     "metadata": {},
     "execution_count": 6
    }
   ],
   "source": [
    "res = pd.read_csv(\"./Group F Data/match_result.csv\", encoding = 'unicode_escape')\n",
    "print(res.shape)\n",
    "res.head(3)"
   ]
  },
  {
   "source": [
    "#NOTE"
   ],
   "cell_type": "markdown",
   "metadata": {}
  },
  {
   "source": [
    "Data description can be found in description.txt"
   ],
   "cell_type": "markdown",
   "metadata": {}
  },
  {
   "cell_type": "code",
   "execution_count": 7,
   "metadata": {},
   "outputs": [
    {
     "output_type": "stream",
     "name": "stderr",
     "text": [
      "[NbConvertApp] Converting notebook appendix.ipynb to html\n[NbConvertApp] Writing 580291 bytes to appendix.html\n"
     ]
    }
   ],
   "source": [
    "!jupyter nbconvert --to html appendix.ipynb"
   ]
  },
  {
   "cell_type": "code",
   "execution_count": null,
   "metadata": {},
   "outputs": [],
   "source": []
  }
 ]
}