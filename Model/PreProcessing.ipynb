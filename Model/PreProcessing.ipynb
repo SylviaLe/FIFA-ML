{
 "cells": [
  {
   "cell_type": "code",
   "execution_count": 52,
   "metadata": {},
   "outputs": [],
   "source": [
    "import numpy as np\n",
    "import pandas as pd\n",
    "import matplotlib.pyplot as plt\n",
    "import seaborn as sns\n",
    "from collections import Counter"
   ]
  },
  {
   "cell_type": "code",
   "execution_count": 53,
   "metadata": {},
   "outputs": [],
   "source": [
    "p18 = pd.read_csv('players_18.csv', encoding='latin-1') #players_18.csv file, some of the cases we encoded in latin1\n",
    "p19 = pd.read_csv('players_19.csv', encoding='latin-1') #players_19.csv file, some of the cases we encoded in latin1\n",
    "m_results = pd.read_csv('match_result.csv', encoding='latin-1') #match_results.csv file, some of the cases we encoded in latin1"
   ]
  },
  {
   "cell_type": "code",
   "execution_count": 54,
   "metadata": {},
   "outputs": [
    {
     "output_type": "execute_result",
     "data": {
      "text/plain": [
       "(17592, 17)"
      ]
     },
     "metadata": {},
     "execution_count": 54
    }
   ],
   "source": [
    "p18.shape"
   ]
  },
  {
   "cell_type": "code",
   "execution_count": 55,
   "metadata": {
    "scrolled": true
   },
   "outputs": [
    {
     "output_type": "execute_result",
     "data": {
      "text/plain": [
       "(17770, 17)"
      ]
     },
     "metadata": {},
     "execution_count": 55
    }
   ],
   "source": [
    "p19.shape"
   ]
  },
  {
   "cell_type": "code",
   "execution_count": 56,
   "metadata": {},
   "outputs": [
    {
     "output_type": "execute_result",
     "data": {
      "text/plain": [
       "(2984, 6)"
      ]
     },
     "metadata": {},
     "execution_count": 56
    }
   ],
   "source": [
    "m_results.shape"
   ]
  },
  {
   "cell_type": "code",
   "execution_count": 57,
   "metadata": {},
   "outputs": [],
   "source": [
    "#dropping unneeded variables from the player_18 and player_19 csv files first\n",
    "\n",
    "#list of variables of interest (voi) that we want to keep for our models\n",
    "voi_player = ['short_name', 'age', 'height_cm', 'weight_kg', 'club', 'wage_eur',\n",
    "      'pace' ,'shooting', 'passing', 'dribbling', 'defending',\n",
    "      'gk_handling', 'gk_speed', 'gk_kicking', 'gk_diving', 'gk_positioning']\n",
    "\n",
    "columns_list_18 = p18.columns.values.tolist() #list of all columns\n",
    "columns_list_19 = p19.columns.values.tolist()\n",
    "\n",
    "for i in range(len(columns_list_18)): #iterate through list of columns\n",
    "    if columns_list_18[i] not in voi_player: #if column is not in our variables of interest list\n",
    "        p18.pop(columns_list_18[i]) #remove it from the df\n",
    "        \n",
    "for i in range(len(columns_list_19)):\n",
    "    if columns_list_19[i] not in voi_player:\n",
    "        p19.pop(columns_list_19[i])"
   ]
  },
  {
   "cell_type": "code",
   "execution_count": 58,
   "metadata": {},
   "outputs": [],
   "source": [
    "p18['short_name'] = p18['short_name'].astype('category') #setting to correct variable types\n",
    "p18['club'] = p18['club'].astype('category') #setting to correct variable types\n",
    "p19['short_name'] = p19['short_name'].astype('category') #setting to correct variable types\n",
    "p19['club'] = p19['club'].astype('category') #setting to correct variable types"
   ]
  },
  {
   "cell_type": "code",
   "execution_count": 59,
   "metadata": {},
   "outputs": [
    {
     "output_type": "execute_result",
     "data": {
      "text/plain": [
       "(17592, 16)"
      ]
     },
     "metadata": {},
     "execution_count": 59
    }
   ],
   "source": [
    "p18.shape #confirming we cut out the 87 unneeded columns"
   ]
  },
  {
   "cell_type": "code",
   "execution_count": 60,
   "metadata": {},
   "outputs": [
    {
     "output_type": "execute_result",
     "data": {
      "text/plain": [
       "(17770, 16)"
      ]
     },
     "metadata": {},
     "execution_count": 60
    }
   ],
   "source": [
    "p19.shape #confirming we cut out the 87 unneeded columns"
   ]
  },
  {
   "cell_type": "code",
   "execution_count": 61,
   "metadata": {},
   "outputs": [],
   "source": [
    "#dropping unneeded variables from the match_results csv\n",
    "\n",
    "#list of variables of interest (voi) that we want to keep for our models\n",
    "voi_match = ['FTHG', 'FTAG', 'FTR', 'HomeTeam', 'AwayTeam']\n",
    "\n",
    "columns_list_match = m_results.columns.values.tolist()\n",
    "\n",
    "for i in range(len(columns_list_match)): #iterate through list of columns\n",
    "    if columns_list_match[i] not in voi_match: #if column is not in our variables of interest list\n",
    "        m_results.pop(columns_list_match[i]) #remove it from the df"
   ]
  },
  {
   "cell_type": "code",
   "execution_count": 62,
   "metadata": {},
   "outputs": [
    {
     "output_type": "execute_result",
     "data": {
      "text/plain": [
       "(2984, 5)"
      ]
     },
     "metadata": {},
     "execution_count": 62
    }
   ],
   "source": [
    "m_results.shape"
   ]
  },
  {
   "cell_type": "code",
   "execution_count": 63,
   "metadata": {},
   "outputs": [
    {
     "output_type": "execute_result",
     "data": {
      "text/plain": [
       "            HomeTeam              AwayTeam  FTHG  FTAG FTR\n",
       "0  Standard de Liège              KAA Gent     3     2   H\n",
       "1        KV Kortrijk        RSC Anderlecht     1     4   A\n",
       "2        KV Oostende  Royal Excel Mouscron     2     1   H\n",
       "3  Sint-Truidense VV     KSV Cercle Brugge     0     0   D\n",
       "4   SV Zulte-Waregem      Waasland-Beveren     2     2   D"
      ],
      "text/html": "<div>\n<style scoped>\n    .dataframe tbody tr th:only-of-type {\n        vertical-align: middle;\n    }\n\n    .dataframe tbody tr th {\n        vertical-align: top;\n    }\n\n    .dataframe thead th {\n        text-align: right;\n    }\n</style>\n<table border=\"1\" class=\"dataframe\">\n  <thead>\n    <tr style=\"text-align: right;\">\n      <th></th>\n      <th>HomeTeam</th>\n      <th>AwayTeam</th>\n      <th>FTHG</th>\n      <th>FTAG</th>\n      <th>FTR</th>\n    </tr>\n  </thead>\n  <tbody>\n    <tr>\n      <th>0</th>\n      <td>Standard de Liège</td>\n      <td>KAA Gent</td>\n      <td>3</td>\n      <td>2</td>\n      <td>H</td>\n    </tr>\n    <tr>\n      <th>1</th>\n      <td>KV Kortrijk</td>\n      <td>RSC Anderlecht</td>\n      <td>1</td>\n      <td>4</td>\n      <td>A</td>\n    </tr>\n    <tr>\n      <th>2</th>\n      <td>KV Oostende</td>\n      <td>Royal Excel Mouscron</td>\n      <td>2</td>\n      <td>1</td>\n      <td>H</td>\n    </tr>\n    <tr>\n      <th>3</th>\n      <td>Sint-Truidense VV</td>\n      <td>KSV Cercle Brugge</td>\n      <td>0</td>\n      <td>0</td>\n      <td>D</td>\n    </tr>\n    <tr>\n      <th>4</th>\n      <td>SV Zulte-Waregem</td>\n      <td>Waasland-Beveren</td>\n      <td>2</td>\n      <td>2</td>\n      <td>D</td>\n    </tr>\n  </tbody>\n</table>\n</div>"
     },
     "metadata": {},
     "execution_count": 63
    }
   ],
   "source": [
    "m_results.head()"
   ]
  },
  {
   "cell_type": "code",
   "execution_count": 64,
   "metadata": {},
   "outputs": [],
   "source": [
    "m_results['HomeTeam'] = m_results['HomeTeam'].astype('category') #setting to correct variable types\n",
    "m_results['AwayTeam'] = m_results['AwayTeam'].astype('category')\n",
    "m_results['FTR'] = m_results['FTR'].astype('category')"
   ]
  },
  {
   "cell_type": "code",
   "execution_count": 65,
   "metadata": {},
   "outputs": [],
   "source": [
    "# p18.to_csv('players_18.csv')\n",
    "# p19.to_csv('players_19.csv')\n",
    "# m_results.to_csv('match_result.csv')"
   ]
  },
  {
   "cell_type": "code",
   "execution_count": 66,
   "metadata": {},
   "outputs": [],
   "source": [
    "#group by teams and calculate the standard deviation\n",
    "p18_team_sd = p18.groupby('club').mean().sort_values('wage_eur',ascending=False)\n",
    "p19_team_sd = p19.groupby('club').mean().sort_values('wage_eur',ascending=False)"
   ]
  },
  {
   "cell_type": "code",
   "execution_count": 67,
   "metadata": {},
   "outputs": [],
   "source": [
    "#group by team and calculate the mean\n",
    "p18_team_mean = p18.groupby('club').mean().sort_values('pace',ascending=False)\n",
    "p19_team_mean = p19.groupby('club').mean().sort_values('pace',ascending=False)"
   ]
  },
  {
   "cell_type": "code",
   "execution_count": 68,
   "metadata": {},
   "outputs": [],
   "source": [
    "#preparing to merge table, by standard deviation\n",
    "HomeStatsSd = p18_team_sd\n",
    "HomeStatsSd = HomeStatsSd.add_prefix('Home ')\n",
    "HomeStatsSd = HomeStatsSd.reset_index()\n",
    "AwayStatsSd = p18_team_sd\n",
    "AwayStatsSd = AwayStatsSd.add_prefix('Away ')\n",
    "AwayStatsSd = AwayStatsSd.reset_index()"
   ]
  },
  {
   "cell_type": "code",
   "execution_count": 69,
   "metadata": {},
   "outputs": [],
   "source": [
    "temp = pd.merge(m_results,HomeStatsSd,'left',left_on='HomeTeam',right_on='club')\n",
    "sd_table = pd.merge(temp, AwayStatsSd, 'left',left_on='AwayTeam',right_on='club')  #final table, all stats are sd"
   ]
  },
  {
   "cell_type": "code",
   "execution_count": 71,
   "metadata": {},
   "outputs": [],
   "source": [
    "#preparing to merge table, by mean\n",
    "HomeStatsMean = p18_team_mean\n",
    "HomeStatsMean = HomeStatsMean.add_prefix('Home ')\n",
    "HomeStatsMean = HomeStatsMean.reset_index()\n",
    "AwayStatsMean = p18_team_mean\n",
    "AwayStatsMean = AwayStatsMean.add_prefix('Away ')\n",
    "AwayStatsMean = AwayStatsMean.reset_index()"
   ]
  },
  {
   "cell_type": "code",
   "execution_count": 72,
   "metadata": {},
   "outputs": [],
   "source": [
    "temp = pd.merge(m_results,HomeStatsMean,'left',left_on='HomeTeam',right_on='club')\n",
    "mean_table = pd.merge(temp, AwayStatsMean, 'left',left_on='AwayTeam',right_on='club')  #final table, all stats are mean"
   ]
  },
  {
   "cell_type": "code",
   "execution_count": null,
   "metadata": {},
   "outputs": [],
   "source": []
  }
 ],
 "metadata": {
  "kernelspec": {
   "name": "python390jvsc74a57bd0ce0eb3b9e04d4bbb4a196bdde8fa672c3d2077ce83d147f742d60a9b2cb65a02",
   "display_name": "Python 3.9.0 64-bit"
  },
  "language_info": {
   "codemirror_mode": {
    "name": "ipython",
    "version": 3
   },
   "file_extension": ".py",
   "mimetype": "text/x-python",
   "name": "python",
   "nbconvert_exporter": "python",
   "pygments_lexer": "ipython3",
   "version": "3.9.0-final"
  }
 },
 "nbformat": 4,
 "nbformat_minor": 4
}