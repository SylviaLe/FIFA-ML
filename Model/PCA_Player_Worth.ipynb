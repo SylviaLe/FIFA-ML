{
 "cells": [
  {
   "cell_type": "code",
   "execution_count": 104,
   "metadata": {},
   "outputs": [],
   "source": [
    "import numpy as np\n",
    "import pandas as pd\n",
    "import matplotlib.pyplot as plt\n",
    "import seaborn as sns\n",
    "from collections import Counter"
   ]
  },
  {
   "cell_type": "code",
   "execution_count": 105,
   "metadata": {},
   "outputs": [],
   "source": [
    "p18 = pd.read_csv('players_18.csv', encoding='latin-1') #players_18.csv file, some of the cases we encoded in latin1\n",
    "p19 = pd.read_csv('players_19.csv', encoding='latin-1') #players_19.csv file, some of the cases we encoded in latin1\n",
    "m_results = pd.read_csv('match_result.csv', encoding='latin-1') #match_results.csv file, some of the cases we encoded in latin1"
   ]
  },
  {
   "cell_type": "code",
   "execution_count": 106,
   "metadata": {},
   "outputs": [
    {
     "data": {
      "text/plain": [
       "(17592, 104)"
      ]
     },
     "execution_count": 106,
     "metadata": {},
     "output_type": "execute_result"
    }
   ],
   "source": [
    "p18.shape "
   ]
  },
  {
   "cell_type": "code",
   "execution_count": 107,
   "metadata": {
    "scrolled": true
   },
   "outputs": [
    {
     "data": {
      "text/plain": [
       "(17770, 104)"
      ]
     },
     "execution_count": 107,
     "metadata": {},
     "output_type": "execute_result"
    }
   ],
   "source": [
    "p19.shape"
   ]
  },
  {
   "cell_type": "code",
   "execution_count": 108,
   "metadata": {
    "scrolled": true
   },
   "outputs": [
    {
     "data": {
      "text/plain": [
       "(2984, 22)"
      ]
     },
     "execution_count": 108,
     "metadata": {},
     "output_type": "execute_result"
    }
   ],
   "source": [
    "m_results.shape"
   ]
  },
  {
   "cell_type": "code",
   "execution_count": 110,
   "metadata": {},
   "outputs": [],
   "source": [
    "#dropping unneeded variables from the player_18 and player_19 csv files first\n",
    "\n",
    "#list of variables of interest (voi) that we want to keep for our models\n",
    "voi_player = ['short_name', 'age', 'height_cm', 'weight_kg', 'club', 'wage_eur', 'player_positions',\n",
    "      'pace' ,'shooting', 'passing', 'dribbling', 'defending', 'physic']\n",
    "\n",
    "columns_list_18 = p18.columns.values.tolist() #list of all columns\n",
    "columns_list_19 = p19.columns.values.tolist()\n",
    "\n",
    "for i in range(len(columns_list_18)): #iterate through list of columns\n",
    "    if columns_list_18[i] not in voi_player: #if column is not in our variables of interest list\n",
    "        p18.pop(columns_list_18[i]) #remove it from the df\n",
    "        \n",
    "for i in range(len(columns_list_19)):\n",
    "    if columns_list_19[i] not in voi_player:\n",
    "        p19.pop(columns_list_19[i])"
   ]
  },
  {
   "cell_type": "code",
   "execution_count": 111,
   "metadata": {},
   "outputs": [],
   "source": [
    "p18['short_name'] = p18['short_name'].astype('category') #setting to correct variable types\n",
    "p18['club'] = p18['club'].astype('category') #setting to correct variable types\n",
    "p19['short_name'] = p19['short_name'].astype('category') #setting to correct variable types\n",
    "p19['club'] = p19['club'].astype('category') #setting to correct variable types"
   ]
  },
  {
   "cell_type": "code",
   "execution_count": 112,
   "metadata": {},
   "outputs": [
    {
     "data": {
      "text/plain": [
       "(17592, 13)"
      ]
     },
     "execution_count": 112,
     "metadata": {},
     "output_type": "execute_result"
    }
   ],
   "source": [
    "p18.shape #confirming we cut out the 87 unneeded columns"
   ]
  },
  {
   "cell_type": "code",
   "execution_count": 113,
   "metadata": {
    "scrolled": false
   },
   "outputs": [
    {
     "data": {
      "text/plain": [
       "(17770, 13)"
      ]
     },
     "execution_count": 113,
     "metadata": {},
     "output_type": "execute_result"
    }
   ],
   "source": [
    "p19.shape #confirming we cut out the 87 unneeded columns"
   ]
  },
  {
   "cell_type": "code",
   "execution_count": 114,
   "metadata": {
    "collapsed": true
   },
   "outputs": [
    {
     "data": {
      "text/html": [
       "<div>\n",
       "<style scoped>\n",
       "    .dataframe tbody tr th:only-of-type {\n",
       "        vertical-align: middle;\n",
       "    }\n",
       "\n",
       "    .dataframe tbody tr th {\n",
       "        vertical-align: top;\n",
       "    }\n",
       "\n",
       "    .dataframe thead th {\n",
       "        text-align: right;\n",
       "    }\n",
       "</style>\n",
       "<table border=\"1\" class=\"dataframe\">\n",
       "  <thead>\n",
       "    <tr style=\"text-align: right;\">\n",
       "      <th></th>\n",
       "      <th>short_name</th>\n",
       "      <th>age</th>\n",
       "      <th>height_cm</th>\n",
       "      <th>weight_kg</th>\n",
       "      <th>club</th>\n",
       "      <th>wage_eur</th>\n",
       "      <th>player_positions</th>\n",
       "      <th>pace</th>\n",
       "      <th>shooting</th>\n",
       "      <th>passing</th>\n",
       "      <th>dribbling</th>\n",
       "      <th>defending</th>\n",
       "      <th>physic</th>\n",
       "    </tr>\n",
       "  </thead>\n",
       "  <tbody>\n",
       "    <tr>\n",
       "      <th>0</th>\n",
       "      <td>Cristiano Ronaldo</td>\n",
       "      <td>32</td>\n",
       "      <td>185</td>\n",
       "      <td>80</td>\n",
       "      <td>Real Madrid</td>\n",
       "      <td>565000</td>\n",
       "      <td>LW, ST</td>\n",
       "      <td>90.0</td>\n",
       "      <td>93.0</td>\n",
       "      <td>82.0</td>\n",
       "      <td>90.0</td>\n",
       "      <td>33.0</td>\n",
       "      <td>80.0</td>\n",
       "    </tr>\n",
       "    <tr>\n",
       "      <th>1</th>\n",
       "      <td>L. Messi</td>\n",
       "      <td>30</td>\n",
       "      <td>170</td>\n",
       "      <td>72</td>\n",
       "      <td>FC Barcelona</td>\n",
       "      <td>565000</td>\n",
       "      <td>RW</td>\n",
       "      <td>89.0</td>\n",
       "      <td>90.0</td>\n",
       "      <td>86.0</td>\n",
       "      <td>96.0</td>\n",
       "      <td>26.0</td>\n",
       "      <td>61.0</td>\n",
       "    </tr>\n",
       "    <tr>\n",
       "      <th>2</th>\n",
       "      <td>Neymar</td>\n",
       "      <td>25</td>\n",
       "      <td>175</td>\n",
       "      <td>68</td>\n",
       "      <td>Paris Saint-Germain</td>\n",
       "      <td>280000</td>\n",
       "      <td>LW</td>\n",
       "      <td>92.0</td>\n",
       "      <td>84.0</td>\n",
       "      <td>79.0</td>\n",
       "      <td>95.0</td>\n",
       "      <td>30.0</td>\n",
       "      <td>60.0</td>\n",
       "    </tr>\n",
       "    <tr>\n",
       "      <th>3</th>\n",
       "      <td>M. Neuer</td>\n",
       "      <td>31</td>\n",
       "      <td>193</td>\n",
       "      <td>92</td>\n",
       "      <td>FC Bayern MÃ¼nchen</td>\n",
       "      <td>230000</td>\n",
       "      <td>GK</td>\n",
       "      <td>NaN</td>\n",
       "      <td>NaN</td>\n",
       "      <td>NaN</td>\n",
       "      <td>NaN</td>\n",
       "      <td>NaN</td>\n",
       "      <td>NaN</td>\n",
       "    </tr>\n",
       "    <tr>\n",
       "      <th>4</th>\n",
       "      <td>L. SuÃ¡rez</td>\n",
       "      <td>30</td>\n",
       "      <td>182</td>\n",
       "      <td>86</td>\n",
       "      <td>FC Barcelona</td>\n",
       "      <td>510000</td>\n",
       "      <td>ST</td>\n",
       "      <td>82.0</td>\n",
       "      <td>90.0</td>\n",
       "      <td>79.0</td>\n",
       "      <td>87.0</td>\n",
       "      <td>42.0</td>\n",
       "      <td>81.0</td>\n",
       "    </tr>\n",
       "  </tbody>\n",
       "</table>\n",
       "</div>"
      ],
      "text/plain": [
       "          short_name  age  height_cm  weight_kg                 club  \\\n",
       "0  Cristiano Ronaldo   32        185         80          Real Madrid   \n",
       "1           L. Messi   30        170         72         FC Barcelona   \n",
       "2             Neymar   25        175         68  Paris Saint-Germain   \n",
       "3           M. Neuer   31        193         92   FC Bayern MÃ¼nchen   \n",
       "4         L. SuÃ¡rez   30        182         86         FC Barcelona   \n",
       "\n",
       "   wage_eur player_positions  pace  shooting  passing  dribbling  defending  \\\n",
       "0    565000           LW, ST  90.0      93.0     82.0       90.0       33.0   \n",
       "1    565000               RW  89.0      90.0     86.0       96.0       26.0   \n",
       "2    280000               LW  92.0      84.0     79.0       95.0       30.0   \n",
       "3    230000               GK   NaN       NaN      NaN        NaN        NaN   \n",
       "4    510000               ST  82.0      90.0     79.0       87.0       42.0   \n",
       "\n",
       "   physic  \n",
       "0    80.0  \n",
       "1    61.0  \n",
       "2    60.0  \n",
       "3     NaN  \n",
       "4    81.0  "
      ]
     },
     "execution_count": 114,
     "metadata": {},
     "output_type": "execute_result"
    }
   ],
   "source": [
    "p18.head()"
   ]
  },
  {
   "cell_type": "code",
   "execution_count": 115,
   "metadata": {
    "collapsed": true
   },
   "outputs": [
    {
     "data": {
      "text/html": [
       "<div>\n",
       "<style scoped>\n",
       "    .dataframe tbody tr th:only-of-type {\n",
       "        vertical-align: middle;\n",
       "    }\n",
       "\n",
       "    .dataframe tbody tr th {\n",
       "        vertical-align: top;\n",
       "    }\n",
       "\n",
       "    .dataframe thead th {\n",
       "        text-align: right;\n",
       "    }\n",
       "</style>\n",
       "<table border=\"1\" class=\"dataframe\">\n",
       "  <thead>\n",
       "    <tr style=\"text-align: right;\">\n",
       "      <th></th>\n",
       "      <th>short_name</th>\n",
       "      <th>age</th>\n",
       "      <th>height_cm</th>\n",
       "      <th>weight_kg</th>\n",
       "      <th>club</th>\n",
       "      <th>wage_eur</th>\n",
       "      <th>player_positions</th>\n",
       "      <th>pace</th>\n",
       "      <th>shooting</th>\n",
       "      <th>passing</th>\n",
       "      <th>dribbling</th>\n",
       "      <th>defending</th>\n",
       "      <th>physic</th>\n",
       "    </tr>\n",
       "  </thead>\n",
       "  <tbody>\n",
       "    <tr>\n",
       "      <th>0</th>\n",
       "      <td>Cristiano Ronaldo</td>\n",
       "      <td>32</td>\n",
       "      <td>185</td>\n",
       "      <td>80</td>\n",
       "      <td>Real Madrid</td>\n",
       "      <td>565000</td>\n",
       "      <td>LW, ST</td>\n",
       "      <td>90.0</td>\n",
       "      <td>93.0</td>\n",
       "      <td>82.0</td>\n",
       "      <td>90.0</td>\n",
       "      <td>33.0</td>\n",
       "      <td>80.0</td>\n",
       "    </tr>\n",
       "    <tr>\n",
       "      <th>1</th>\n",
       "      <td>L. Messi</td>\n",
       "      <td>30</td>\n",
       "      <td>170</td>\n",
       "      <td>72</td>\n",
       "      <td>FC Barcelona</td>\n",
       "      <td>565000</td>\n",
       "      <td>RW</td>\n",
       "      <td>89.0</td>\n",
       "      <td>90.0</td>\n",
       "      <td>86.0</td>\n",
       "      <td>96.0</td>\n",
       "      <td>26.0</td>\n",
       "      <td>61.0</td>\n",
       "    </tr>\n",
       "    <tr>\n",
       "      <th>2</th>\n",
       "      <td>Neymar</td>\n",
       "      <td>25</td>\n",
       "      <td>175</td>\n",
       "      <td>68</td>\n",
       "      <td>Paris Saint-Germain</td>\n",
       "      <td>280000</td>\n",
       "      <td>LW</td>\n",
       "      <td>92.0</td>\n",
       "      <td>84.0</td>\n",
       "      <td>79.0</td>\n",
       "      <td>95.0</td>\n",
       "      <td>30.0</td>\n",
       "      <td>60.0</td>\n",
       "    </tr>\n",
       "    <tr>\n",
       "      <th>4</th>\n",
       "      <td>L. SuÃ¡rez</td>\n",
       "      <td>30</td>\n",
       "      <td>182</td>\n",
       "      <td>86</td>\n",
       "      <td>FC Barcelona</td>\n",
       "      <td>510000</td>\n",
       "      <td>ST</td>\n",
       "      <td>82.0</td>\n",
       "      <td>90.0</td>\n",
       "      <td>79.0</td>\n",
       "      <td>87.0</td>\n",
       "      <td>42.0</td>\n",
       "      <td>81.0</td>\n",
       "    </tr>\n",
       "    <tr>\n",
       "      <th>5</th>\n",
       "      <td>R. Lewandowski</td>\n",
       "      <td>28</td>\n",
       "      <td>185</td>\n",
       "      <td>79</td>\n",
       "      <td>FC Bayern MÃ¼nchen</td>\n",
       "      <td>355000</td>\n",
       "      <td>ST</td>\n",
       "      <td>81.0</td>\n",
       "      <td>88.0</td>\n",
       "      <td>75.0</td>\n",
       "      <td>86.0</td>\n",
       "      <td>38.0</td>\n",
       "      <td>82.0</td>\n",
       "    </tr>\n",
       "  </tbody>\n",
       "</table>\n",
       "</div>"
      ],
      "text/plain": [
       "          short_name  age  height_cm  weight_kg                 club  \\\n",
       "0  Cristiano Ronaldo   32        185         80          Real Madrid   \n",
       "1           L. Messi   30        170         72         FC Barcelona   \n",
       "2             Neymar   25        175         68  Paris Saint-Germain   \n",
       "4         L. SuÃ¡rez   30        182         86         FC Barcelona   \n",
       "5     R. Lewandowski   28        185         79   FC Bayern MÃ¼nchen   \n",
       "\n",
       "   wage_eur player_positions  pace  shooting  passing  dribbling  defending  \\\n",
       "0    565000           LW, ST  90.0      93.0     82.0       90.0       33.0   \n",
       "1    565000               RW  89.0      90.0     86.0       96.0       26.0   \n",
       "2    280000               LW  92.0      84.0     79.0       95.0       30.0   \n",
       "4    510000               ST  82.0      90.0     79.0       87.0       42.0   \n",
       "5    355000               ST  81.0      88.0     75.0       86.0       38.0   \n",
       "\n",
       "   physic  \n",
       "0    80.0  \n",
       "1    61.0  \n",
       "2    60.0  \n",
       "4    81.0  \n",
       "5    82.0  "
      ]
     },
     "execution_count": 115,
     "metadata": {},
     "output_type": "execute_result"
    }
   ],
   "source": [
    "p18.drop(p18[p18['player_positions'] == \"GK\"].index, inplace = True) #remove all goalkeepers from p18 dataset\n",
    "p19.drop(p19[p19['player_positions'] == \"GK\"].index, inplace = True) #remove all goalkeepers from p19 dataset\n",
    "p18.head()"
   ]
  },
  {
   "cell_type": "code",
   "execution_count": 116,
   "metadata": {},
   "outputs": [],
   "source": [
    "#dropping unneeded variables from the match_results csv\n",
    "\n",
    "#list of variables of interest (voi) that we want to keep for our models\n",
    "voi_match = ['FTHG', 'FTAG', 'FTR', 'HomeTeam', 'AwayTeam']\n",
    "\n",
    "columns_list_match = m_results.columns.values.tolist()\n",
    "\n",
    "for i in range(len(columns_list_match)): #iterate through list of columns\n",
    "    if columns_list_match[i] not in voi_match: #if column is not in our variables of interest list\n",
    "        m_results.pop(columns_list_match[i]) #remove it from the df"
   ]
  },
  {
   "cell_type": "code",
   "execution_count": 117,
   "metadata": {},
   "outputs": [
    {
     "data": {
      "text/plain": [
       "(2984, 5)"
      ]
     },
     "execution_count": 117,
     "metadata": {},
     "output_type": "execute_result"
    }
   ],
   "source": [
    "m_results.shape"
   ]
  },
  {
   "cell_type": "code",
   "execution_count": 118,
   "metadata": {
    "collapsed": true
   },
   "outputs": [
    {
     "data": {
      "text/html": [
       "<div>\n",
       "<style scoped>\n",
       "    .dataframe tbody tr th:only-of-type {\n",
       "        vertical-align: middle;\n",
       "    }\n",
       "\n",
       "    .dataframe tbody tr th {\n",
       "        vertical-align: top;\n",
       "    }\n",
       "\n",
       "    .dataframe thead th {\n",
       "        text-align: right;\n",
       "    }\n",
       "</style>\n",
       "<table border=\"1\" class=\"dataframe\">\n",
       "  <thead>\n",
       "    <tr style=\"text-align: right;\">\n",
       "      <th></th>\n",
       "      <th>HomeTeam</th>\n",
       "      <th>AwayTeam</th>\n",
       "      <th>FTHG</th>\n",
       "      <th>FTAG</th>\n",
       "      <th>FTR</th>\n",
       "    </tr>\n",
       "  </thead>\n",
       "  <tbody>\n",
       "    <tr>\n",
       "      <th>0</th>\n",
       "      <td>Standard de Liège</td>\n",
       "      <td>KAA Gent</td>\n",
       "      <td>3</td>\n",
       "      <td>2</td>\n",
       "      <td>H</td>\n",
       "    </tr>\n",
       "    <tr>\n",
       "      <th>1</th>\n",
       "      <td>KV Kortrijk</td>\n",
       "      <td>RSC Anderlecht</td>\n",
       "      <td>1</td>\n",
       "      <td>4</td>\n",
       "      <td>A</td>\n",
       "    </tr>\n",
       "    <tr>\n",
       "      <th>2</th>\n",
       "      <td>KV Oostende</td>\n",
       "      <td>Royal Excel Mouscron</td>\n",
       "      <td>2</td>\n",
       "      <td>1</td>\n",
       "      <td>H</td>\n",
       "    </tr>\n",
       "    <tr>\n",
       "      <th>3</th>\n",
       "      <td>Sint-Truidense VV</td>\n",
       "      <td>KSV Cercle Brugge</td>\n",
       "      <td>0</td>\n",
       "      <td>0</td>\n",
       "      <td>D</td>\n",
       "    </tr>\n",
       "    <tr>\n",
       "      <th>4</th>\n",
       "      <td>SV Zulte-Waregem</td>\n",
       "      <td>Waasland-Beveren</td>\n",
       "      <td>2</td>\n",
       "      <td>2</td>\n",
       "      <td>D</td>\n",
       "    </tr>\n",
       "  </tbody>\n",
       "</table>\n",
       "</div>"
      ],
      "text/plain": [
       "            HomeTeam              AwayTeam  FTHG  FTAG FTR\n",
       "0  Standard de Liège              KAA Gent     3     2   H\n",
       "1        KV Kortrijk        RSC Anderlecht     1     4   A\n",
       "2        KV Oostende  Royal Excel Mouscron     2     1   H\n",
       "3  Sint-Truidense VV     KSV Cercle Brugge     0     0   D\n",
       "4   SV Zulte-Waregem      Waasland-Beveren     2     2   D"
      ]
     },
     "execution_count": 118,
     "metadata": {},
     "output_type": "execute_result"
    }
   ],
   "source": [
    "m_results.head()"
   ]
  },
  {
   "cell_type": "code",
   "execution_count": 119,
   "metadata": {},
   "outputs": [],
   "source": [
    "m_results['HomeTeam'] = m_results['HomeTeam'].astype('category') #setting to correct variable types\n",
    "m_results['AwayTeam'] = m_results['AwayTeam'].astype('category')\n",
    "m_results['FTR'] = m_results['FTR'].astype('category')"
   ]
  },
  {
   "cell_type": "code",
   "execution_count": 120,
   "metadata": {},
   "outputs": [],
   "source": [
    "p18.to_csv('players_18_1.csv') #save players_18 dataframe as the new csv file\n",
    "p19.to_csv('players_19_1.csv') #save players_19 dataframe as the new csv file\n",
    "m_results.to_csv('match_result_1.csv') #save match_results dataframe as the new csv file"
   ]
  },
  {
   "cell_type": "code",
   "execution_count": 164,
   "metadata": {},
   "outputs": [],
   "source": [
    "#for principal component analysis\n",
    "from sklearn.model_selection import train_test_split, cross_val_score\n",
    "from sklearn.preprocessing import StandardScaler\n",
    "from sklearn.decomposition import PCA\n",
    "from sklearn.model_selection import KFold\n",
    "from sklearn.linear_model import LinearRegression\n",
    "from sklearn.metrics import mean_squared_error,confusion_matrix, classification_report"
   ]
  },
  {
   "cell_type": "code",
   "execution_count": 151,
   "metadata": {},
   "outputs": [
    {
     "data": {
      "text/html": [
       "<div>\n",
       "<style scoped>\n",
       "    .dataframe tbody tr th:only-of-type {\n",
       "        vertical-align: middle;\n",
       "    }\n",
       "\n",
       "    .dataframe tbody tr th {\n",
       "        vertical-align: top;\n",
       "    }\n",
       "\n",
       "    .dataframe thead th {\n",
       "        text-align: right;\n",
       "    }\n",
       "</style>\n",
       "<table border=\"1\" class=\"dataframe\">\n",
       "  <thead>\n",
       "    <tr style=\"text-align: right;\">\n",
       "      <th></th>\n",
       "      <th>Unnamed: 0</th>\n",
       "      <th>short_name</th>\n",
       "      <th>age</th>\n",
       "      <th>height_cm</th>\n",
       "      <th>weight_kg</th>\n",
       "      <th>club</th>\n",
       "      <th>wage_eur</th>\n",
       "      <th>player_positions</th>\n",
       "      <th>pace</th>\n",
       "      <th>shooting</th>\n",
       "      <th>passing</th>\n",
       "      <th>dribbling</th>\n",
       "      <th>defending</th>\n",
       "      <th>physic</th>\n",
       "    </tr>\n",
       "  </thead>\n",
       "  <tbody>\n",
       "    <tr>\n",
       "      <th>0</th>\n",
       "      <td>0</td>\n",
       "      <td>Cristiano Ronaldo</td>\n",
       "      <td>32</td>\n",
       "      <td>185</td>\n",
       "      <td>80</td>\n",
       "      <td>Real Madrid</td>\n",
       "      <td>565000</td>\n",
       "      <td>LW, ST</td>\n",
       "      <td>90.0</td>\n",
       "      <td>93.0</td>\n",
       "      <td>82.0</td>\n",
       "      <td>90.0</td>\n",
       "      <td>33.0</td>\n",
       "      <td>80.0</td>\n",
       "    </tr>\n",
       "    <tr>\n",
       "      <th>1</th>\n",
       "      <td>1</td>\n",
       "      <td>L. Messi</td>\n",
       "      <td>30</td>\n",
       "      <td>170</td>\n",
       "      <td>72</td>\n",
       "      <td>FC Barcelona</td>\n",
       "      <td>565000</td>\n",
       "      <td>RW</td>\n",
       "      <td>89.0</td>\n",
       "      <td>90.0</td>\n",
       "      <td>86.0</td>\n",
       "      <td>96.0</td>\n",
       "      <td>26.0</td>\n",
       "      <td>61.0</td>\n",
       "    </tr>\n",
       "    <tr>\n",
       "      <th>2</th>\n",
       "      <td>2</td>\n",
       "      <td>Neymar</td>\n",
       "      <td>25</td>\n",
       "      <td>175</td>\n",
       "      <td>68</td>\n",
       "      <td>Paris Saint-Germain</td>\n",
       "      <td>280000</td>\n",
       "      <td>LW</td>\n",
       "      <td>92.0</td>\n",
       "      <td>84.0</td>\n",
       "      <td>79.0</td>\n",
       "      <td>95.0</td>\n",
       "      <td>30.0</td>\n",
       "      <td>60.0</td>\n",
       "    </tr>\n",
       "    <tr>\n",
       "      <th>3</th>\n",
       "      <td>4</td>\n",
       "      <td>L. SuÃ¡rez</td>\n",
       "      <td>30</td>\n",
       "      <td>182</td>\n",
       "      <td>86</td>\n",
       "      <td>FC Barcelona</td>\n",
       "      <td>510000</td>\n",
       "      <td>ST</td>\n",
       "      <td>82.0</td>\n",
       "      <td>90.0</td>\n",
       "      <td>79.0</td>\n",
       "      <td>87.0</td>\n",
       "      <td>42.0</td>\n",
       "      <td>81.0</td>\n",
       "    </tr>\n",
       "    <tr>\n",
       "      <th>4</th>\n",
       "      <td>5</td>\n",
       "      <td>R. Lewandowski</td>\n",
       "      <td>28</td>\n",
       "      <td>185</td>\n",
       "      <td>79</td>\n",
       "      <td>FC Bayern MÃ¼nchen</td>\n",
       "      <td>355000</td>\n",
       "      <td>ST</td>\n",
       "      <td>81.0</td>\n",
       "      <td>88.0</td>\n",
       "      <td>75.0</td>\n",
       "      <td>86.0</td>\n",
       "      <td>38.0</td>\n",
       "      <td>82.0</td>\n",
       "    </tr>\n",
       "  </tbody>\n",
       "</table>\n",
       "</div>"
      ],
      "text/plain": [
       "   Unnamed: 0         short_name  age  height_cm  weight_kg  \\\n",
       "0           0  Cristiano Ronaldo   32        185         80   \n",
       "1           1           L. Messi   30        170         72   \n",
       "2           2             Neymar   25        175         68   \n",
       "3           4         L. SuÃ¡rez   30        182         86   \n",
       "4           5     R. Lewandowski   28        185         79   \n",
       "\n",
       "                  club  wage_eur player_positions  pace  shooting  passing  \\\n",
       "0          Real Madrid    565000           LW, ST  90.0      93.0     82.0   \n",
       "1         FC Barcelona    565000               RW  89.0      90.0     86.0   \n",
       "2  Paris Saint-Germain    280000               LW  92.0      84.0     79.0   \n",
       "3         FC Barcelona    510000               ST  82.0      90.0     79.0   \n",
       "4   FC Bayern MÃ¼nchen    355000               ST  81.0      88.0     75.0   \n",
       "\n",
       "   dribbling  defending  physic  \n",
       "0       90.0       33.0    80.0  \n",
       "1       96.0       26.0    61.0  \n",
       "2       95.0       30.0    60.0  \n",
       "3       87.0       42.0    81.0  \n",
       "4       86.0       38.0    82.0  "
      ]
     },
     "execution_count": 151,
     "metadata": {},
     "output_type": "execute_result"
    }
   ],
   "source": [
    "p18_slim = pd.read_csv('players_18_1.csv')\n",
    "p19_slim = pd.read_csv('players_19_1.csv')\n",
    "p18_slim.head()"
   ]
  },
  {
   "cell_type": "code",
   "execution_count": 152,
   "metadata": {},
   "outputs": [],
   "source": [
    "x_18 = p18_slim[['age', 'height_cm', 'weight_kg', 'pace', 'shooting', 'passing', 'dribbling', 'defending', 'physic']]\n",
    "y_18 = p18_slim['wage_eur']\n",
    "\n",
    "x_19 = p19_slim[['age', 'height_cm', 'weight_kg', 'pace', 'shooting', 'passing', 'dribbling', 'defending', 'physic']]\n",
    "y_19 = p19_slim['wage_eur']"
   ]
  },
  {
   "cell_type": "code",
   "execution_count": 153,
   "metadata": {},
   "outputs": [],
   "source": [
    "x_train_18, x_test_18 , y_train_18, y_test_18 = train_test_split(x_18, y_18, test_size=0.3, random_state=1)\n",
    "x_train_19, x_test_19 , y_train_19, y_test_19 = train_test_split(x_19, y_19, test_size=0.3, random_state=1)"
   ]
  },
  {
   "cell_type": "code",
   "execution_count": 154,
   "metadata": {},
   "outputs": [],
   "source": [
    "scaler_18 = StandardScaler().fit(x_train_18)\n",
    "scaler_19 = StandardScaler().fit(x_train_19)\n",
    "\n",
    "x_train_sc_18 = scaler_18.transform(x_train_18)\n",
    "x_train_sc_19 = scaler_19.transform(x_train_19)"
   ]
  },
  {
   "cell_type": "code",
   "execution_count": 155,
   "metadata": {},
   "outputs": [],
   "source": [
    "pca_18 = PCA()\n",
    "pca_19 = PCA()\n",
    "\n",
    "x_reduced_18 = pca_18.fit_transform(x_train_sc_18)\n",
    "x_reduced_19 = pca_19.fit_transform(x_train_sc_19)"
   ]
  },
  {
   "cell_type": "code",
   "execution_count": 172,
   "metadata": {
    "collapsed": true
   },
   "outputs": [
    {
     "data": {
      "text/plain": [
       "array([0.38, 0.63, 0.76, 0.85, 0.91, 0.94, 0.97, 0.98, 0.99])"
      ]
     },
     "execution_count": 172,
     "metadata": {},
     "output_type": "execute_result"
    }
   ],
   "source": [
    "np.cumsum(np.round(pca_18.explained_variance_ratio_, decimals=2)) #cumulative variance explained in p18 dataset"
   ]
  },
  {
   "cell_type": "code",
   "execution_count": 174,
   "metadata": {
    "collapsed": true
   },
   "outputs": [
    {
     "data": {
      "text/plain": [
       "array([0.38, 0.64, 0.77, 0.86, 0.92, 0.95, 0.98, 0.99, 1.  ])"
      ]
     },
     "execution_count": 174,
     "metadata": {},
     "output_type": "execute_result"
    }
   ],
   "source": [
    "np.cumsum(np.round(pca_19.explained_variance_ratio_, decimals=2)) #cumulative variance explained in p19 dataset"
   ]
  },
  {
   "cell_type": "code",
   "execution_count": 156,
   "metadata": {},
   "outputs": [],
   "source": [
    "kfold_cv = KFold(n_splits=10, shuffle=True, random_state=1)"
   ]
  },
  {
   "cell_type": "code",
   "execution_count": 159,
   "metadata": {
    "collapsed": true
   },
   "outputs": [
    {
     "data": {
      "image/png": "[encoded data removed]",
      "text/plain": [
       "<Figure size 432x288 with 1 Axes>"
      ]
     },
     "metadata": {
      "needs_background": "light"
     },
     "output_type": "display_data"
    }
   ],
   "source": [
    "#MSE testing for p18 data\n",
    "\n",
    "pca_fit_18 = pca_18.fit(x_train_sc_18) \n",
    "x_reduced_train_18 = pca_fit_18.transform(x_train_sc_18)\n",
    "n_18 = len(x_reduced_train_18)\n",
    "\n",
    "lr_18 = LinearRegression()\n",
    "mse_18 = []\n",
    "\n",
    "score_18 = -cross_val_score(lr_18, np.ones((n_18,1)), y_train_18, cv=kfold_cv, scoring='neg_mean_squared_error').mean()\n",
    "mse_18.append(score_18)\n",
    "\n",
    "for i in np.arange(1, 8):\n",
    "    score_18 = -1*cross_val_score(lr_18, x_reduced_train_18[:,:i], y_train_18.ravel(), cv=kfold_cv, scoring='neg_mean_squared_error').mean()\n",
    "    mse_18.append(score_18)\n",
    "    \n",
    "plt.plot(np.array(mse_18), '-o')\n",
    "plt.xlabel('Number of Principal Components')\n",
    "plt.ylabel('MSE')\n",
    "plt.title('MSE vs Number of Principal Components For P18 Data')\n",
    "plt.xlim(xmin=-1);"
   ]
  },
  {
   "cell_type": "code",
   "execution_count": 160,
   "metadata": {
    "collapsed": true
   },
   "outputs": [
    {
     "data": {
      "image/png": "[encoded data removed]",
      "text/plain": [
       "<Figure size 432x288 with 1 Axes>"
      ]
     },
     "metadata": {
      "needs_background": "light"
     },
     "output_type": "display_data"
    }
   ],
   "source": [
    "#MSE testing for p19 data\n",
    "\n",
    "pca_fit_19 = pca_19.fit(x_train_sc_19) \n",
    "x_reduced_train_19 = pca_fit_19.transform(x_train_sc_19)\n",
    "n_19 = len(x_reduced_train_19)\n",
    "\n",
    "lr_19 = LinearRegression()\n",
    "mse_19 = []\n",
    "\n",
    "score_19 = -cross_val_score(lr_19, np.ones((n_19,1)), y_train_19, cv=kfold_cv, scoring='neg_mean_squared_error').mean()\n",
    "mse_19.append(score_19)\n",
    "\n",
    "for i in np.arange(1, 8):\n",
    "    score_19 = -1*cross_val_score(lr_19, x_reduced_train_19[:,:i], y_train_19.ravel(), cv=kfold_cv, scoring='neg_mean_squared_error').mean()\n",
    "    mse_19.append(score_19)\n",
    "    \n",
    "plt.plot(np.array(mse_19), '-o')\n",
    "plt.xlabel('Number of Principal Components')\n",
    "plt.ylabel('MSE')\n",
    "plt.title('MSE vs Number of Principal Components For P19 Data')\n",
    "plt.xlim(xmin=-1);"
   ]
  },
  {
   "cell_type": "code",
   "execution_count": 169,
   "metadata": {
    "collapsed": true
   },
   "outputs": [
    {
     "name": "stdout",
     "output_type": "stream",
     "text": [
      "Test MSE: 397879373.263657\n"
     ]
    }
   ],
   "source": [
    "#using principal components with lowest MSE for p18 data set\n",
    "\n",
    "p_18_pc_num = np.argmin(mse_18)+1 #returns the correct index for the principal component number with lowest MSE\n",
    "\n",
    "x_test_sc_18 = scaler_18.transform(x_test_18)\n",
    "\n",
    "lr_18.fit(x_reduced_train_18[:,:p_18_pc_num], y_train_18)\n",
    "\n",
    "x_reduced_test_18 = pca_fit_18.transform(x_test_sc_18) \n",
    "pred_18 = lr_18.predict(x_reduced_test_18[:,:p_18_pc_num])\n",
    "mse_18_1 = mean_squared_error(y_test_18, pred_18)\n",
    "\n",
    "print(\"Test MSE: \"+str(mse_18_1))"
   ]
  },
  {
   "cell_type": "code",
   "execution_count": 171,
   "metadata": {
    "collapsed": true
   },
   "outputs": [
    {
     "name": "stdout",
     "output_type": "stream",
     "text": [
      "Test MSE: 419863866.4892587\n"
     ]
    }
   ],
   "source": [
    "#using principal components with lowest MSE for p19 dataset\n",
    "\n",
    "p_19_pc_num = np.argmin(mse_19)+1 #returns the correct index for the principal component number with lowest MSE\n",
    "\n",
    "x_test_sc_19 = scaler_19.transform(x_test_19)\n",
    "\n",
    "lr_19.fit(x_reduced_train_19[:,:p_19_pc_num], y_train_19)\n",
    "\n",
    "x_reduced_test_19 = pca_fit_19.transform(x_test_sc_19) \n",
    "pred_19 = lr_19.predict(x_reduced_test_19[:,:p_19_pc_num])\n",
    "mse_19_1 = mean_squared_error(y_test_19, pred_19)\n",
    "\n",
    "print(\"Test MSE: \"+str(mse_19_1))"
   ]
  }
 ],
 "metadata": {
  "kernelspec": {
   "display_name": "Python 3",
   "language": "python",
   "name": "python3"
  },
  "language_info": {
   "codemirror_mode": {
    "name": "ipython",
    "version": 3
   },
   "file_extension": ".py",
   "mimetype": "text/x-python",
   "name": "python",
   "nbconvert_exporter": "python",
   "pygments_lexer": "ipython3",
   "version": "3.8.5"
  }
 },
 "nbformat": 4,
 "nbformat_minor": 4
}
