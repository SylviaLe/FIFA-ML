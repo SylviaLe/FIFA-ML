{
 "cells": [
  {
   "cell_type": "code",
   "execution_count": 8,
   "metadata": {},
   "outputs": [],
   "source": [
    "import pandas as pd\n",
    "import numpy as np\n",
    "import matplotlib as mpl\n",
    "import matplotlib.pyplot as plt\n",
    "%matplotlib inline\n",
    "\n",
    "import statsmodels.api as sm\n",
    "import statsmodels.formula.api as smf  \n",
    "\n",
    "from sklearn.linear_model import LinearRegression\n",
    "from sklearn.model_selection import train_test_split, cross_val_score\n",
    "from sklearn.preprocessing import StandardScaler\n",
    "from sklearn.decomposition import PCA\n",
    "from sklearn.tree import DecisionTreeRegressor, DecisionTreeClassifier, plot_tree, export_text\n",
    "from sklearn.ensemble import BaggingClassifier, RandomForestClassifier, BaggingRegressor, RandomForestRegressor, GradientBoostingRegressor, GradientBoostingClassifier\n",
    "from sklearn.metrics import mean_squared_error,confusion_matrix, classification_report\n",
    "from sklearn.model_selection import KFold"
   ]
  },
  {
   "cell_type": "code",
   "execution_count": 9,
   "metadata": {},
   "outputs": [],
   "source": [
    "p18 = pd.read_csv('players_18.csv', encoding='latin-1') #players_18.csv file, some of the cases we encoded in latin1\n",
    "p19 = pd.read_csv('players_19.csv', encoding='latin-1') #players_19.csv file, some of the cases we encoded in latin1\n",
    "m_results = pd.read_csv('match_result.csv', encoding='latin-1') #match_results.csv file, some of the cases we encoded in latin1"
   ]
  },
  {
   "cell_type": "code",
   "execution_count": 10,
   "metadata": {},
   "outputs": [],
   "source": [
    "#dropping unneeded variables from the player_18 and player_19 csv files first\n",
    "\n",
    "#list of variables of interest (voi) that we want to keep for our models\n",
    "voi_player = ['short_name', 'age', 'height_cm', 'weight_kg', 'club', 'wage_eur', 'player_positions',\n",
    "      'pace' ,'shooting', 'passing', 'dribbling', 'defending', 'physic']\n",
    "\n",
    "columns_list_18 = p18.columns.values.tolist() #list of all columns\n",
    "columns_list_19 = p19.columns.values.tolist()\n",
    "\n",
    "for i in range(len(columns_list_18)): #iterate through list of columns\n",
    "    if columns_list_18[i] not in voi_player: #if column is not in our variables of interest list\n",
    "        p18.pop(columns_list_18[i]) #remove it from the df\n",
    "        \n",
    "for i in range(len(columns_list_19)):\n",
    "    if columns_list_19[i] not in voi_player:\n",
    "        p19.pop(columns_list_19[i])"
   ]
  },
  {
   "cell_type": "code",
   "execution_count": 11,
   "metadata": {},
   "outputs": [],
   "source": [
    "p18['short_name'] = p18['short_name'].astype('category') #setting to correct variable types\n",
    "p18['club'] = p18['club'].astype('category') #setting to correct variable types\n",
    "p19['short_name'] = p19['short_name'].astype('category') #setting to correct variable types\n",
    "p19['club'] = p19['club'].astype('category') #setting to correct variable types"
   ]
  },
  {
   "cell_type": "code",
   "execution_count": 12,
   "metadata": {},
   "outputs": [],
   "source": [
    "p18.drop(p18[p18['player_positions'] == \"GK\"].index, inplace = True) #remove all goalkeepers from p18 dataset\n",
    "p19.drop(p19[p19['player_positions'] == \"GK\"].index, inplace = True) #remove all goalkeepers from p19 dataset"
   ]
  },
  {
   "cell_type": "code",
   "execution_count": 13,
   "metadata": {},
   "outputs": [],
   "source": [
    "p18.to_csv('players_18_1.csv') #save players_18 dataframe as the new csv file\n",
    "p19.to_csv('players_19_1.csv') #save players_19 dataframe as the new csv file\n",
    "m_results.to_csv('match_result_1.csv') #save match_results dataframe as the new csv file"
   ]
  },
  {
   "cell_type": "code",
   "execution_count": 14,
   "metadata": {
    "collapsed": true
   },
   "outputs": [
    {
     "data": {
      "text/html": [
       "<div>\n",
       "<style scoped>\n",
       "    .dataframe tbody tr th:only-of-type {\n",
       "        vertical-align: middle;\n",
       "    }\n",
       "\n",
       "    .dataframe tbody tr th {\n",
       "        vertical-align: top;\n",
       "    }\n",
       "\n",
       "    .dataframe thead th {\n",
       "        text-align: right;\n",
       "    }\n",
       "</style>\n",
       "<table border=\"1\" class=\"dataframe\">\n",
       "  <thead>\n",
       "    <tr style=\"text-align: right;\">\n",
       "      <th></th>\n",
       "      <th>Unnamed: 0</th>\n",
       "      <th>short_name</th>\n",
       "      <th>age</th>\n",
       "      <th>height_cm</th>\n",
       "      <th>weight_kg</th>\n",
       "      <th>club</th>\n",
       "      <th>wage_eur</th>\n",
       "      <th>player_positions</th>\n",
       "      <th>pace</th>\n",
       "      <th>shooting</th>\n",
       "      <th>passing</th>\n",
       "      <th>dribbling</th>\n",
       "      <th>defending</th>\n",
       "      <th>physic</th>\n",
       "    </tr>\n",
       "  </thead>\n",
       "  <tbody>\n",
       "    <tr>\n",
       "      <th>0</th>\n",
       "      <td>0</td>\n",
       "      <td>Cristiano Ronaldo</td>\n",
       "      <td>32</td>\n",
       "      <td>185</td>\n",
       "      <td>80</td>\n",
       "      <td>Real Madrid</td>\n",
       "      <td>565000</td>\n",
       "      <td>LW, ST</td>\n",
       "      <td>90.0</td>\n",
       "      <td>93.0</td>\n",
       "      <td>82.0</td>\n",
       "      <td>90.0</td>\n",
       "      <td>33.0</td>\n",
       "      <td>80.0</td>\n",
       "    </tr>\n",
       "    <tr>\n",
       "      <th>1</th>\n",
       "      <td>1</td>\n",
       "      <td>L. Messi</td>\n",
       "      <td>30</td>\n",
       "      <td>170</td>\n",
       "      <td>72</td>\n",
       "      <td>FC Barcelona</td>\n",
       "      <td>565000</td>\n",
       "      <td>RW</td>\n",
       "      <td>89.0</td>\n",
       "      <td>90.0</td>\n",
       "      <td>86.0</td>\n",
       "      <td>96.0</td>\n",
       "      <td>26.0</td>\n",
       "      <td>61.0</td>\n",
       "    </tr>\n",
       "    <tr>\n",
       "      <th>2</th>\n",
       "      <td>2</td>\n",
       "      <td>Neymar</td>\n",
       "      <td>25</td>\n",
       "      <td>175</td>\n",
       "      <td>68</td>\n",
       "      <td>Paris Saint-Germain</td>\n",
       "      <td>280000</td>\n",
       "      <td>LW</td>\n",
       "      <td>92.0</td>\n",
       "      <td>84.0</td>\n",
       "      <td>79.0</td>\n",
       "      <td>95.0</td>\n",
       "      <td>30.0</td>\n",
       "      <td>60.0</td>\n",
       "    </tr>\n",
       "    <tr>\n",
       "      <th>3</th>\n",
       "      <td>4</td>\n",
       "      <td>L. SuÃ¡rez</td>\n",
       "      <td>30</td>\n",
       "      <td>182</td>\n",
       "      <td>86</td>\n",
       "      <td>FC Barcelona</td>\n",
       "      <td>510000</td>\n",
       "      <td>ST</td>\n",
       "      <td>82.0</td>\n",
       "      <td>90.0</td>\n",
       "      <td>79.0</td>\n",
       "      <td>87.0</td>\n",
       "      <td>42.0</td>\n",
       "      <td>81.0</td>\n",
       "    </tr>\n",
       "    <tr>\n",
       "      <th>4</th>\n",
       "      <td>5</td>\n",
       "      <td>R. Lewandowski</td>\n",
       "      <td>28</td>\n",
       "      <td>185</td>\n",
       "      <td>79</td>\n",
       "      <td>FC Bayern MÃ¼nchen</td>\n",
       "      <td>355000</td>\n",
       "      <td>ST</td>\n",
       "      <td>81.0</td>\n",
       "      <td>88.0</td>\n",
       "      <td>75.0</td>\n",
       "      <td>86.0</td>\n",
       "      <td>38.0</td>\n",
       "      <td>82.0</td>\n",
       "    </tr>\n",
       "  </tbody>\n",
       "</table>\n",
       "</div>"
      ],
      "text/plain": [
       "   Unnamed: 0         short_name  age  height_cm  weight_kg  \\\n",
       "0           0  Cristiano Ronaldo   32        185         80   \n",
       "1           1           L. Messi   30        170         72   \n",
       "2           2             Neymar   25        175         68   \n",
       "3           4         L. SuÃ¡rez   30        182         86   \n",
       "4           5     R. Lewandowski   28        185         79   \n",
       "\n",
       "                  club  wage_eur player_positions  pace  shooting  passing  \\\n",
       "0          Real Madrid    565000           LW, ST  90.0      93.0     82.0   \n",
       "1         FC Barcelona    565000               RW  89.0      90.0     86.0   \n",
       "2  Paris Saint-Germain    280000               LW  92.0      84.0     79.0   \n",
       "3         FC Barcelona    510000               ST  82.0      90.0     79.0   \n",
       "4   FC Bayern MÃ¼nchen    355000               ST  81.0      88.0     75.0   \n",
       "\n",
       "   dribbling  defending  physic  \n",
       "0       90.0       33.0    80.0  \n",
       "1       96.0       26.0    61.0  \n",
       "2       95.0       30.0    60.0  \n",
       "3       87.0       42.0    81.0  \n",
       "4       86.0       38.0    82.0  "
      ]
     },
     "execution_count": 14,
     "metadata": {},
     "output_type": "execute_result"
    }
   ],
   "source": [
    "p18_slim = pd.read_csv('players_18_1.csv')\n",
    "p19_slim = pd.read_csv('players_19_1.csv')\n",
    "p18_slim.head()"
   ]
  },
  {
   "cell_type": "code",
   "execution_count": 15,
   "metadata": {},
   "outputs": [],
   "source": [
    "x_18 = p18_slim[['age', 'height_cm', 'weight_kg', 'pace', 'shooting', 'passing', 'dribbling', 'defending', 'physic']]\n",
    "y_18 = p18_slim['wage_eur']\n",
    "\n",
    "x_19 = p19_slim[['age', 'height_cm', 'weight_kg', 'pace', 'shooting', 'passing', 'dribbling', 'defending', 'physic']]\n",
    "y_19 = p19_slim['wage_eur']"
   ]
  },
  {
   "cell_type": "code",
   "execution_count": 16,
   "metadata": {},
   "outputs": [],
   "source": [
    "x_train_18, x_test_18 , y_train_18, y_test_18 = train_test_split(x_18, y_18, test_size=0.3, random_state=1)\n",
    "x_train_19, x_test_19 , y_train_19, y_test_19 = train_test_split(x_19, y_19, test_size=0.3, random_state=1)"
   ]
  },
  {
   "cell_type": "code",
   "execution_count": 17,
   "metadata": {
    "collapsed": true
   },
   "outputs": [
    {
     "data": {
      "text/plain": [
       "DecisionTreeClassifier(max_depth=3, min_samples_leaf=10, random_state=0)"
      ]
     },
     "execution_count": 17,
     "metadata": {},
     "output_type": "execute_result"
    }
   ],
   "source": [
    "clf_app_18 = DecisionTreeClassifier(random_state=0, max_depth=3, min_samples_leaf = 10)\n",
    "clf_app_18.fit(x_train_18, y_train_18)"
   ]
  },
  {
   "cell_type": "code",
   "execution_count": 20,
   "metadata": {
    "collapsed": true
   },
   "outputs": [
    {
     "name": "stdout",
     "output_type": "stream",
     "text": [
      "|--- passing <= 58.50\n",
      "|   |--- defending <= 63.50\n",
      "|   |   |--- shooting <= 58.50\n",
      "|   |   |   |--- class: 1000\n",
      "|   |   |--- shooting >  58.50\n",
      "|   |   |   |--- class: 2000\n",
      "|   |--- defending >  63.50\n",
      "|   |   |--- defending <= 66.50\n",
      "|   |   |   |--- class: 2000\n",
      "|   |   |--- defending >  66.50\n",
      "|   |   |   |--- class: 5000\n",
      "|--- passing >  58.50\n",
      "|   |--- dribbling <= 68.50\n",
      "|   |   |--- defending <= 64.50\n",
      "|   |   |   |--- class: 1000\n",
      "|   |   |--- defending >  64.50\n",
      "|   |   |   |--- class: 6000\n",
      "|   |--- dribbling >  68.50\n",
      "|   |   |--- dribbling <= 72.50\n",
      "|   |   |   |--- class: 3000\n",
      "|   |   |--- dribbling >  72.50\n",
      "|   |   |   |--- class: 10000\n",
      "\n"
     ]
    }
   ],
   "source": [
    "app_tree_text_18 = export_text(clf_app_18, feature_names = list(x_18.columns))\n",
    "print(app_tree_text_18)"
   ]
  },
  {
   "cell_type": "code",
   "execution_count": 23,
   "metadata": {
    "collapsed": true
   },
   "outputs": [
    {
     "name": "stdout",
     "output_type": "stream",
     "text": [
      "Test MSE: 554061912.8949616\n"
     ]
    }
   ],
   "source": [
    "pred_18 = clf_app_18.predict(x_test_18)\n",
    "mse_18 = mean_squared_error(y_test_18, pred_18)\n",
    "print(\"Test MSE: \"+str(mse_18))"
   ]
  }
 ],
 "metadata": {
  "kernelspec": {
   "display_name": "Python 3",
   "language": "python",
   "name": "python3"
  },
  "language_info": {
   "codemirror_mode": {
    "name": "ipython",
    "version": 3
   },
   "file_extension": ".py",
   "mimetype": "text/x-python",
   "name": "python",
   "nbconvert_exporter": "python",
   "pygments_lexer": "ipython3",
   "version": "3.8.5"
  }
 },
 "nbformat": 4,
 "nbformat_minor": 4
}
