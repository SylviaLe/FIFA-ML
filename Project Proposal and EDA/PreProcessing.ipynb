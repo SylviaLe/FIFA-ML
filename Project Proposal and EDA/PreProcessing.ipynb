{
 "cells": [
  {
   "cell_type": "code",
   "execution_count": 1,
   "metadata": {},
   "outputs": [],
   "source": [
    "import numpy as np\n",
    "import pandas as pd\n",
    "import matplotlib.pyplot as plt\n",
    "import seaborn as sns\n",
    "from collections import Counter"
   ]
  },
  {
   "cell_type": "code",
   "execution_count": 2,
   "metadata": {},
   "outputs": [],
   "source": [
    "p18 = pd.read_csv('players_18.csv', encoding='latin-1') #players_18.csv file, some of the cases we encoded in latin1\n",
    "p19 = pd.read_csv('players_19.csv', encoding='latin-1') #players_19.csv file, some of the cases we encoded in latin1\n",
    "m_results = pd.read_csv('match_result.csv', encoding='latin-1') #match_results.csv file, some of the cases we encoded in latin1"
   ]
  },
  {
   "cell_type": "code",
   "execution_count": 3,
   "metadata": {},
   "outputs": [
    {
     "data": {
      "text/plain": [
       "(17592, 104)"
      ]
     },
     "execution_count": 3,
     "metadata": {},
     "output_type": "execute_result"
    }
   ],
   "source": [
    "p18.shape "
   ]
  },
  {
   "cell_type": "code",
   "execution_count": 4,
   "metadata": {
    "scrolled": true
   },
   "outputs": [
    {
     "data": {
      "text/plain": [
       "(17770, 104)"
      ]
     },
     "execution_count": 4,
     "metadata": {},
     "output_type": "execute_result"
    }
   ],
   "source": [
    "p19.shape"
   ]
  },
  {
   "cell_type": "code",
   "execution_count": 5,
   "metadata": {},
   "outputs": [
    {
     "data": {
      "text/plain": [
       "(2984, 22)"
      ]
     },
     "execution_count": 5,
     "metadata": {},
     "output_type": "execute_result"
    }
   ],
   "source": [
    "m_results.shape"
   ]
  },
  {
   "cell_type": "code",
   "execution_count": 6,
   "metadata": {},
   "outputs": [],
   "source": [
    "#dropping unneeded variables from the player_18 and player_19 csv files first\n",
    "\n",
    "#list of variables of interest (voi) that we want to keep for our models\n",
    "voi_player = ['short_name', 'age', 'height_cm', 'weight_kg', 'club', 'wage_eur',\n",
    "      'pace' ,'shooting', 'passing', 'dribbling', 'defending',\n",
    "      'gk_handling', 'gk_speed', 'gk_kicking', 'gk_diving', 'gk_positioning']\n",
    "\n",
    "columns_list_18 = p18.columns.values.tolist() #list of all columns\n",
    "columns_list_19 = p19.columns.values.tolist()\n",
    "\n",
    "for i in range(len(columns_list_18)): #iterate through list of columns\n",
    "    if columns_list_18[i] not in voi_player: #if column is not in our variables of interest list\n",
    "        p18.pop(columns_list_18[i]) #remove it from the df\n",
    "        \n",
    "for i in range(len(columns_list_19)):\n",
    "    if columns_list_19[i] not in voi_player:\n",
    "        p19.pop(columns_list_19[i])"
   ]
  },
  {
   "cell_type": "code",
   "execution_count": 7,
   "metadata": {},
   "outputs": [],
   "source": [
    "p18['short_name'] = p18['short_name'].astype('category') #setting to correct variable types\n",
    "p18['club'] = p18['club'].astype('category') #setting to correct variable types\n",
    "p19['short_name'] = p19['short_name'].astype('category') #setting to correct variable types\n",
    "p19['club'] = p19['club'].astype('category') #setting to correct variable types"
   ]
  },
  {
   "cell_type": "code",
   "execution_count": 8,
   "metadata": {},
   "outputs": [
    {
     "data": {
      "text/plain": [
       "(17592, 16)"
      ]
     },
     "execution_count": 8,
     "metadata": {},
     "output_type": "execute_result"
    }
   ],
   "source": [
    "p18.shape #confirming we cut out the 87 unneeded columns"
   ]
  },
  {
   "cell_type": "code",
   "execution_count": 9,
   "metadata": {
    "scrolled": false
   },
   "outputs": [
    {
     "data": {
      "text/plain": [
       "(17770, 16)"
      ]
     },
     "execution_count": 9,
     "metadata": {},
     "output_type": "execute_result"
    }
   ],
   "source": [
    "p19.shape #confirming we cut out the 87 unneeded columns"
   ]
  },
  {
   "cell_type": "code",
   "execution_count": 10,
   "metadata": {},
   "outputs": [],
   "source": [
    "#dropping unneeded variables from the match_results csv\n",
    "\n",
    "#list of variables of interest (voi) that we want to keep for our models\n",
    "voi_match = ['FTHG', 'FTAG', 'FTR', 'HomeTeam', 'AwayTeam']\n",
    "\n",
    "columns_list_match = m_results.columns.values.tolist()\n",
    "\n",
    "for i in range(len(columns_list_match)): #iterate through list of columns\n",
    "    if columns_list_match[i] not in voi_match: #if column is not in our variables of interest list\n",
    "        m_results.pop(columns_list_match[i]) #remove it from the df"
   ]
  },
  {
   "cell_type": "code",
   "execution_count": 11,
   "metadata": {},
   "outputs": [
    {
     "data": {
      "text/plain": [
       "(2984, 5)"
      ]
     },
     "execution_count": 11,
     "metadata": {},
     "output_type": "execute_result"
    }
   ],
   "source": [
    "m_results.shape"
   ]
  },
  {
   "cell_type": "code",
   "execution_count": 12,
   "metadata": {
    "collapsed": true
   },
   "outputs": [
    {
     "data": {
      "text/html": [
       "<div>\n",
       "<style scoped>\n",
       "    .dataframe tbody tr th:only-of-type {\n",
       "        vertical-align: middle;\n",
       "    }\n",
       "\n",
       "    .dataframe tbody tr th {\n",
       "        vertical-align: top;\n",
       "    }\n",
       "\n",
       "    .dataframe thead th {\n",
       "        text-align: right;\n",
       "    }\n",
       "</style>\n",
       "<table border=\"1\" class=\"dataframe\">\n",
       "  <thead>\n",
       "    <tr style=\"text-align: right;\">\n",
       "      <th></th>\n",
       "      <th>HomeTeam</th>\n",
       "      <th>AwayTeam</th>\n",
       "      <th>FTHG</th>\n",
       "      <th>FTAG</th>\n",
       "      <th>FTR</th>\n",
       "    </tr>\n",
       "  </thead>\n",
       "  <tbody>\n",
       "    <tr>\n",
       "      <th>0</th>\n",
       "      <td>Standard de Liège</td>\n",
       "      <td>KAA Gent</td>\n",
       "      <td>3</td>\n",
       "      <td>2</td>\n",
       "      <td>H</td>\n",
       "    </tr>\n",
       "    <tr>\n",
       "      <th>1</th>\n",
       "      <td>KV Kortrijk</td>\n",
       "      <td>RSC Anderlecht</td>\n",
       "      <td>1</td>\n",
       "      <td>4</td>\n",
       "      <td>A</td>\n",
       "    </tr>\n",
       "    <tr>\n",
       "      <th>2</th>\n",
       "      <td>KV Oostende</td>\n",
       "      <td>Royal Excel Mouscron</td>\n",
       "      <td>2</td>\n",
       "      <td>1</td>\n",
       "      <td>H</td>\n",
       "    </tr>\n",
       "    <tr>\n",
       "      <th>3</th>\n",
       "      <td>Sint-Truidense VV</td>\n",
       "      <td>KSV Cercle Brugge</td>\n",
       "      <td>0</td>\n",
       "      <td>0</td>\n",
       "      <td>D</td>\n",
       "    </tr>\n",
       "    <tr>\n",
       "      <th>4</th>\n",
       "      <td>SV Zulte-Waregem</td>\n",
       "      <td>Waasland-Beveren</td>\n",
       "      <td>2</td>\n",
       "      <td>2</td>\n",
       "      <td>D</td>\n",
       "    </tr>\n",
       "  </tbody>\n",
       "</table>\n",
       "</div>"
      ],
      "text/plain": [
       "            HomeTeam              AwayTeam  FTHG  FTAG FTR\n",
       "0  Standard de Liège              KAA Gent     3     2   H\n",
       "1        KV Kortrijk        RSC Anderlecht     1     4   A\n",
       "2        KV Oostende  Royal Excel Mouscron     2     1   H\n",
       "3  Sint-Truidense VV     KSV Cercle Brugge     0     0   D\n",
       "4   SV Zulte-Waregem      Waasland-Beveren     2     2   D"
      ]
     },
     "execution_count": 12,
     "metadata": {},
     "output_type": "execute_result"
    }
   ],
   "source": [
    "m_results.head()"
   ]
  },
  {
   "cell_type": "code",
   "execution_count": 13,
   "metadata": {},
   "outputs": [],
   "source": [
    "m_results['HomeTeam'] = m_results['HomeTeam'].astype('category') #setting to correct variable types\n",
    "m_results['AwayTeam'] = m_results['AwayTeam'].astype('category')\n",
    "m_results['FTR'] = m_results['FTR'].astype('category')"
   ]
  },
  {
   "cell_type": "code",
   "execution_count": 14,
   "metadata": {},
   "outputs": [],
   "source": [
    "p18.to_csv('players_18_1.csv')\n",
    "p19.to_csv('players_19_1.csv')\n",
    "m_results.to_csv('match_results_1.csv')"
   ]
  }
 ],
 "metadata": {
  "kernelspec": {
   "display_name": "Python 3",
   "language": "python",
   "name": "python3"
  },
  "language_info": {
   "codemirror_mode": {
    "name": "ipython",
    "version": 3
   },
   "file_extension": ".py",
   "mimetype": "text/x-python",
   "name": "python",
   "nbconvert_exporter": "python",
   "pygments_lexer": "ipython3",
   "version": "3.8.5"
  }
 },
 "nbformat": 4,
 "nbformat_minor": 4
}
